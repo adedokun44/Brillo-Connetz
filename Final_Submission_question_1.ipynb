{
 "cells": [
  {
   "cell_type": "markdown",
   "metadata": {},
   "source": [
    "Importing the necesary libraries"
   ]
  },
  {
   "cell_type": "code",
   "execution_count": 1,
   "metadata": {},
   "outputs": [],
   "source": [
    "%matplotlib inline\n",
    "import pandas as pd\n",
    "import numpy as np\n",
    "import datetime as dt\n",
    "import matplotlib.pyplot as plt\n",
    "import seaborn as sns\n",
    "from sklearn.preprocessing import LabelEncoder\n",
    "from sklearn.preprocessing import StandardScaler"
   ]
  },
  {
   "cell_type": "code",
   "execution_count": 2,
   "metadata": {},
   "outputs": [
    {
     "data": {
      "text/html": [
       "<div>\n",
       "<style scoped>\n",
       "    .dataframe tbody tr th:only-of-type {\n",
       "        vertical-align: middle;\n",
       "    }\n",
       "\n",
       "    .dataframe tbody tr th {\n",
       "        vertical-align: top;\n",
       "    }\n",
       "\n",
       "    .dataframe thead th {\n",
       "        text-align: right;\n",
       "    }\n",
       "</style>\n",
       "<table border=\"1\" class=\"dataframe\">\n",
       "  <thead>\n",
       "    <tr style=\"text-align: right;\">\n",
       "      <th></th>\n",
       "      <th>pidp</th>\n",
       "      <th>psu</th>\n",
       "      <th>strata</th>\n",
       "      <th>birthy</th>\n",
       "      <th>racel_dv</th>\n",
       "      <th>bornuk_dv</th>\n",
       "      <th>ca_age</th>\n",
       "      <th>ca_sex</th>\n",
       "      <th>ca_couple</th>\n",
       "      <th>ca_hhcompa</th>\n",
       "      <th>...</th>\n",
       "      <th>ca_sempgovt</th>\n",
       "      <th>ca_keyworker</th>\n",
       "      <th>ca_wah</th>\n",
       "      <th>ca_timechcare</th>\n",
       "      <th>ca_auditc1_cv</th>\n",
       "      <th>ca_auditc3_cv</th>\n",
       "      <th>ca_smoker</th>\n",
       "      <th>ca_scghq1_dv</th>\n",
       "      <th>ca_gor_dv</th>\n",
       "      <th>ca_betaindin_xw</th>\n",
       "    </tr>\n",
       "  </thead>\n",
       "  <tbody>\n",
       "    <tr>\n",
       "      <th>0</th>\n",
       "      <td>76165</td>\n",
       "      <td>19</td>\n",
       "      <td>6</td>\n",
       "      <td>1982</td>\n",
       "      <td>british/english/scottish/welsh/northern irish ...</td>\n",
       "      <td>born in uk</td>\n",
       "      <td>37</td>\n",
       "      <td>Female</td>\n",
       "      <td>Yes</td>\n",
       "      <td>2+</td>\n",
       "      <td>...</td>\n",
       "      <td>Inapplicable</td>\n",
       "      <td>No</td>\n",
       "      <td>Always</td>\n",
       "      <td>20</td>\n",
       "      <td>No</td>\n",
       "      <td>Inapplicable</td>\n",
       "      <td>No</td>\n",
       "      <td>12</td>\n",
       "      <td>West Midlands</td>\n",
       "      <td>0.000000</td>\n",
       "    </tr>\n",
       "    <tr>\n",
       "      <th>1</th>\n",
       "      <td>280165</td>\n",
       "      <td>67</td>\n",
       "      <td>15</td>\n",
       "      <td>1979</td>\n",
       "      <td>british/english/scottish/welsh/northern irish ...</td>\n",
       "      <td>born in uk</td>\n",
       "      <td>40</td>\n",
       "      <td>Female</td>\n",
       "      <td>Yes</td>\n",
       "      <td>0</td>\n",
       "      <td>...</td>\n",
       "      <td>Inapplicable</td>\n",
       "      <td>No</td>\n",
       "      <td>Never</td>\n",
       "      <td>10</td>\n",
       "      <td>Yes</td>\n",
       "      <td>2-3 times per week</td>\n",
       "      <td>No</td>\n",
       "      <td>6</td>\n",
       "      <td>South East</td>\n",
       "      <td>0.537904</td>\n",
       "    </tr>\n",
       "    <tr>\n",
       "      <th>2</th>\n",
       "      <td>469205</td>\n",
       "      <td>106</td>\n",
       "      <td>25</td>\n",
       "      <td>1990</td>\n",
       "      <td>british/english/scottish/welsh/northern irish ...</td>\n",
       "      <td>born in uk</td>\n",
       "      <td>30</td>\n",
       "      <td>Female</td>\n",
       "      <td>No</td>\n",
       "      <td>2+</td>\n",
       "      <td>...</td>\n",
       "      <td>Inapplicable</td>\n",
       "      <td>Yes</td>\n",
       "      <td>Never</td>\n",
       "      <td>90</td>\n",
       "      <td>Yes</td>\n",
       "      <td>2-4 times in total</td>\n",
       "      <td>No</td>\n",
       "      <td>18</td>\n",
       "      <td>East Midlands</td>\n",
       "      <td>0.000000</td>\n",
       "    </tr>\n",
       "    <tr>\n",
       "      <th>3</th>\n",
       "      <td>599765</td>\n",
       "      <td>130</td>\n",
       "      <td>33</td>\n",
       "      <td>1986</td>\n",
       "      <td>british/english/scottish/welsh/northern irish ...</td>\n",
       "      <td>born in uk</td>\n",
       "      <td>33</td>\n",
       "      <td>Female</td>\n",
       "      <td>Yes</td>\n",
       "      <td>0</td>\n",
       "      <td>...</td>\n",
       "      <td>Inapplicable</td>\n",
       "      <td>Yes</td>\n",
       "      <td>Always</td>\n",
       "      <td>Inapplicable</td>\n",
       "      <td>No</td>\n",
       "      <td>Inapplicable</td>\n",
       "      <td>No</td>\n",
       "      <td>7</td>\n",
       "      <td>West Midlands</td>\n",
       "      <td>0.322060</td>\n",
       "    </tr>\n",
       "    <tr>\n",
       "      <th>4</th>\n",
       "      <td>732365</td>\n",
       "      <td>157</td>\n",
       "      <td>43</td>\n",
       "      <td>1985</td>\n",
       "      <td>british/english/scottish/welsh/northern irish ...</td>\n",
       "      <td>born in uk</td>\n",
       "      <td>34</td>\n",
       "      <td>Male</td>\n",
       "      <td>No</td>\n",
       "      <td>0</td>\n",
       "      <td>...</td>\n",
       "      <td>Inapplicable</td>\n",
       "      <td>Inapplicable</td>\n",
       "      <td>Inapplicable</td>\n",
       "      <td>Inapplicable</td>\n",
       "      <td>No</td>\n",
       "      <td>Inapplicable</td>\n",
       "      <td>Yes</td>\n",
       "      <td>22</td>\n",
       "      <td>North West</td>\n",
       "      <td>2.375521</td>\n",
       "    </tr>\n",
       "  </tbody>\n",
       "</table>\n",
       "<p>5 rows × 29 columns</p>\n",
       "</div>"
      ],
      "text/plain": [
       "     pidp  psu strata birthy  \\\n",
       "0   76165   19      6   1982   \n",
       "1  280165   67     15   1979   \n",
       "2  469205  106     25   1990   \n",
       "3  599765  130     33   1986   \n",
       "4  732365  157     43   1985   \n",
       "\n",
       "                                            racel_dv   bornuk_dv ca_age  \\\n",
       "0  british/english/scottish/welsh/northern irish ...  born in uk     37   \n",
       "1  british/english/scottish/welsh/northern irish ...  born in uk     40   \n",
       "2  british/english/scottish/welsh/northern irish ...  born in uk     30   \n",
       "3  british/english/scottish/welsh/northern irish ...  born in uk     33   \n",
       "4  british/english/scottish/welsh/northern irish ...  born in uk     34   \n",
       "\n",
       "   ca_sex ca_couple ca_hhcompa  ...   ca_sempgovt  ca_keyworker        ca_wah  \\\n",
       "0  Female       Yes         2+  ...  Inapplicable            No        Always   \n",
       "1  Female       Yes          0  ...  Inapplicable            No         Never   \n",
       "2  Female        No         2+  ...  Inapplicable           Yes         Never   \n",
       "3  Female       Yes          0  ...  Inapplicable           Yes        Always   \n",
       "4    Male        No          0  ...  Inapplicable  Inapplicable  Inapplicable   \n",
       "\n",
       "  ca_timechcare ca_auditc1_cv       ca_auditc3_cv ca_smoker ca_scghq1_dv  \\\n",
       "0            20            No        Inapplicable        No           12   \n",
       "1            10           Yes  2-3 times per week        No            6   \n",
       "2            90           Yes  2-4 times in total        No           18   \n",
       "3  Inapplicable            No        Inapplicable        No            7   \n",
       "4  Inapplicable            No        Inapplicable       Yes           22   \n",
       "\n",
       "       ca_gor_dv ca_betaindin_xw  \n",
       "0  West Midlands        0.000000  \n",
       "1     South East        0.537904  \n",
       "2  East Midlands        0.000000  \n",
       "3  West Midlands        0.322060  \n",
       "4     North West        2.375521  \n",
       "\n",
       "[5 rows x 29 columns]"
      ]
     },
     "execution_count": 2,
     "metadata": {},
     "output_type": "execute_result"
    }
   ],
   "source": [
    "data=pd.read_stata('ca_indresp_w_POLS0010.dta')\n",
    "data.head()"
   ]
  },
  {
   "cell_type": "code",
   "execution_count": 3,
   "metadata": {},
   "outputs": [
    {
     "name": "stdout",
     "output_type": "stream",
     "text": [
      "<class 'pandas.core.frame.DataFrame'>\n",
      "Int64Index: 17452 entries, 0 to 17451\n",
      "Data columns (total 29 columns):\n",
      " #   Column           Non-Null Count  Dtype   \n",
      "---  ------           --------------  -----   \n",
      " 0   pidp             17452 non-null  int32   \n",
      " 1   psu              17452 non-null  category\n",
      " 2   strata           17452 non-null  category\n",
      " 3   birthy           17452 non-null  category\n",
      " 4   racel_dv         17452 non-null  category\n",
      " 5   bornuk_dv        17452 non-null  category\n",
      " 6   ca_age           17452 non-null  category\n",
      " 7   ca_sex           17452 non-null  category\n",
      " 8   ca_couple        17452 non-null  category\n",
      " 9   ca_hhcompa       17452 non-null  category\n",
      " 10  ca_hhcompb       17452 non-null  category\n",
      " 11  ca_hhcompc       17452 non-null  category\n",
      " 12  ca_hadsymp       17452 non-null  category\n",
      " 13  ca_tested        17452 non-null  category\n",
      " 14  ca_testresult    17452 non-null  category\n",
      " 15  ca_hcond_cv96    17452 non-null  category\n",
      " 16  ca_sclonely_cv   17452 non-null  category\n",
      " 17  ca_blwork        17452 non-null  category\n",
      " 18  ca_furlough      17452 non-null  category\n",
      " 19  ca_sempgovt      17452 non-null  category\n",
      " 20  ca_keyworker     17452 non-null  category\n",
      " 21  ca_wah           17452 non-null  category\n",
      " 22  ca_timechcare    17452 non-null  category\n",
      " 23  ca_auditc1_cv    17452 non-null  category\n",
      " 24  ca_auditc3_cv    17452 non-null  category\n",
      " 25  ca_smoker        17452 non-null  category\n",
      " 26  ca_scghq1_dv     17452 non-null  category\n",
      " 27  ca_gor_dv        17452 non-null  category\n",
      " 28  ca_betaindin_xw  17452 non-null  category\n",
      "dtypes: category(28), int32(1)\n",
      "memory usage: 1.7 MB\n"
     ]
    }
   ],
   "source": [
    "data.info()"
   ]
  },
  {
   "cell_type": "markdown",
   "metadata": {},
   "source": [
    "We do have to replace some string to int so as to allow uniformity in the values of each columns"
   ]
  },
  {
   "cell_type": "code",
   "execution_count": 4,
   "metadata": {},
   "outputs": [
    {
     "data": {
      "text/plain": [
       "0     15696\n",
       "1      1362\n",
       "2+      394\n",
       "Name: ca_hhcompa, dtype: int64"
      ]
     },
     "execution_count": 4,
     "metadata": {},
     "output_type": "execute_result"
    }
   ],
   "source": [
    "data.ca_hhcompa.value_counts()"
   ]
  },
  {
   "cell_type": "code",
   "execution_count": 5,
   "metadata": {},
   "outputs": [],
   "source": [
    "data['ca_hhcompa']=data['ca_hhcompa'].replace('2+','2')"
   ]
  },
  {
   "cell_type": "code",
   "execution_count": 6,
   "metadata": {},
   "outputs": [
    {
     "data": {
      "text/plain": [
       "0    15696\n",
       "1     1362\n",
       "2      394\n",
       "Name: ca_hhcompa, dtype: int64"
      ]
     },
     "execution_count": 6,
     "metadata": {},
     "output_type": "execute_result"
    }
   ],
   "source": [
    "data.ca_hhcompa.value_counts()"
   ]
  },
  {
   "cell_type": "code",
   "execution_count": 7,
   "metadata": {},
   "outputs": [
    {
     "data": {
      "text/plain": [
       "0     13164\n",
       "1      2272\n",
       "2      1588\n",
       "3+      428\n",
       "Name: ca_hhcompb, dtype: int64"
      ]
     },
     "execution_count": 7,
     "metadata": {},
     "output_type": "execute_result"
    }
   ],
   "source": [
    "data.ca_hhcompb.value_counts()"
   ]
  },
  {
   "cell_type": "code",
   "execution_count": 8,
   "metadata": {},
   "outputs": [],
   "source": [
    "data['ca_hhcompb']=data['ca_hhcompb'].replace('3+','3')"
   ]
  },
  {
   "cell_type": "code",
   "execution_count": 11,
   "metadata": {},
   "outputs": [
    {
     "data": {
      "text/plain": [
       "0    13164\n",
       "1     2272\n",
       "2     1588\n",
       "3      428\n",
       "Name: ca_hhcompb, dtype: int64"
      ]
     },
     "execution_count": 11,
     "metadata": {},
     "output_type": "execute_result"
    }
   ],
   "source": [
    "data.ca_hhcompb.value_counts()"
   ]
  },
  {
   "cell_type": "code",
   "execution_count": 10,
   "metadata": {},
   "outputs": [
    {
     "data": {
      "text/plain": [
       "0     15592\n",
       "1      1666\n",
       "2+      194\n",
       "Name: ca_hhcompc, dtype: int64"
      ]
     },
     "execution_count": 10,
     "metadata": {},
     "output_type": "execute_result"
    }
   ],
   "source": [
    "data.ca_hhcompc.value_counts()"
   ]
  },
  {
   "cell_type": "code",
   "execution_count": 12,
   "metadata": {},
   "outputs": [],
   "source": [
    "data['ca_hhcompc']=data['ca_hhcompc'].replace('2+','2')"
   ]
  },
  {
   "cell_type": "code",
   "execution_count": 13,
   "metadata": {},
   "outputs": [
    {
     "data": {
      "text/plain": [
       "No            15242\n",
       "Yes            2202\n",
       "Don't know        7\n",
       "Missing           1\n",
       "Name: ca_hadsymp, dtype: int64"
      ]
     },
     "execution_count": 13,
     "metadata": {},
     "output_type": "execute_result"
    }
   ],
   "source": [
    "data.ca_hadsymp.value_counts()"
   ]
  },
  {
   "cell_type": "code",
   "execution_count": 14,
   "metadata": {},
   "outputs": [
    {
     "data": {
      "text/plain": [
       "No            15243\n",
       "Yes            2202\n",
       "Don't know        7\n",
       "Name: ca_hadsymp, dtype: int64"
      ]
     },
     "execution_count": 14,
     "metadata": {},
     "output_type": "execute_result"
    }
   ],
   "source": [
    "data['ca_hadsymp']=data['ca_hadsymp'].replace('Missing','No')\n",
    "data.ca_hadsymp.value_counts()"
   ]
  },
  {
   "cell_type": "code",
   "execution_count": 15,
   "metadata": {},
   "outputs": [
    {
     "data": {
      "text/plain": [
       "No            17265\n",
       "Yes             181\n",
       "Missing           3\n",
       "Don't know        2\n",
       "Refusal           1\n",
       "Name: ca_tested, dtype: int64"
      ]
     },
     "execution_count": 15,
     "metadata": {},
     "output_type": "execute_result"
    }
   ],
   "source": [
    "data.ca_tested.value_counts()"
   ]
  },
  {
   "cell_type": "code",
   "execution_count": 16,
   "metadata": {},
   "outputs": [
    {
     "data": {
      "text/plain": [
       "No            17268\n",
       "Yes             181\n",
       "Don't know        2\n",
       "Refusal           1\n",
       "Name: ca_tested, dtype: int64"
      ]
     },
     "execution_count": 16,
     "metadata": {},
     "output_type": "execute_result"
    }
   ],
   "source": [
    "data['ca_tested']=data['ca_tested'].replace('Missing','No')\n",
    "data.ca_tested.value_counts()"
   ]
  },
  {
   "cell_type": "code",
   "execution_count": 17,
   "metadata": {},
   "outputs": [
    {
     "data": {
      "text/plain": [
       "Inapplicable                                       17271\n",
       "Negative - it showed I did not have coronavirus      117\n",
       "Positive - it showed I had coronavirus                30\n",
       "Waiting for results                                   28\n",
       "Inconclusive                                           6\n",
       "Name: ca_testresult, dtype: int64"
      ]
     },
     "execution_count": 17,
     "metadata": {},
     "output_type": "execute_result"
    }
   ],
   "source": [
    "data.ca_testresult.value_counts()"
   ]
  },
  {
   "cell_type": "code",
   "execution_count": 18,
   "metadata": {},
   "outputs": [
    {
     "data": {
      "text/plain": [
       "Inapplicable    17271\n",
       "Negative          117\n",
       "Positive           30\n",
       "Waiting            28\n",
       "Inconclusive        6\n",
       "Name: ca_testresult, dtype: int64"
      ]
     },
     "execution_count": 18,
     "metadata": {},
     "output_type": "execute_result"
    }
   ],
   "source": [
    "data['ca_testresult']=data['ca_testresult'].str.split(' ').str[0]\n",
    "data.ca_testresult.value_counts()"
   ]
  },
  {
   "cell_type": "code",
   "execution_count": 19,
   "metadata": {},
   "outputs": [
    {
     "data": {
      "text/plain": [
       "Mentioned        8789\n",
       "Not mentioned    8548\n",
       "Inapplicable       49\n",
       "Don't know         33\n",
       "Refusal            21\n",
       "Missing            12\n",
       "Name: ca_hcond_cv96, dtype: int64"
      ]
     },
     "execution_count": 19,
     "metadata": {},
     "output_type": "execute_result"
    }
   ],
   "source": [
    "data.ca_hcond_cv96.value_counts()"
   ]
  },
  {
   "cell_type": "code",
   "execution_count": 20,
   "metadata": {},
   "outputs": [
    {
     "data": {
      "text/plain": [
       "Mentioned        8801\n",
       "Not mentioned    8548\n",
       "Inapplicable       49\n",
       "Don't know         33\n",
       "Refusal            21\n",
       "Name: ca_hcond_cv96, dtype: int64"
      ]
     },
     "execution_count": 20,
     "metadata": {},
     "output_type": "execute_result"
    }
   ],
   "source": [
    "data['ca_hcond_cv96']=data['ca_hcond_cv96'].replace('Missing','Mentioned')\n",
    "data.ca_hcond_cv96.value_counts()"
   ]
  },
  {
   "cell_type": "code",
   "execution_count": 21,
   "metadata": {},
   "outputs": [
    {
     "data": {
      "text/plain": [
       "Hardly ever or never    10717\n",
       "Some of the time         4947\n",
       "Often                    1276\n",
       "Inapplicable              504\n",
       "Don't know                  4\n",
       "Refusal                     4\n",
       "Name: ca_sclonely_cv, dtype: int64"
      ]
     },
     "execution_count": 21,
     "metadata": {},
     "output_type": "execute_result"
    }
   ],
   "source": [
    "data.ca_sclonely_cv.value_counts()"
   ]
  },
  {
   "cell_type": "code",
   "execution_count": 22,
   "metadata": {},
   "outputs": [
    {
     "data": {
      "text/plain": [
       "Never           10717\n",
       "Sometime         4947\n",
       "Often            1276\n",
       "Inapplicable      504\n",
       "Don't know          4\n",
       "Refusal             4\n",
       "Name: ca_sclonely_cv, dtype: int64"
      ]
     },
     "execution_count": 22,
     "metadata": {},
     "output_type": "execute_result"
    }
   ],
   "source": [
    "data['ca_sclonely_cv']=data['ca_sclonely_cv'].replace('Hardly ever or never', 'Never')\n",
    "data['ca_sclonely_cv']=data['ca_sclonely_cv'].replace('Some of the time', 'Sometime')\n",
    "data.ca_sclonely_cv.value_counts()"
   ]
  },
  {
   "cell_type": "code",
   "execution_count": 23,
   "metadata": {},
   "outputs": [
    {
     "data": {
      "text/plain": [
       "Yes, employed                           9040\n",
       "No                                      6134\n",
       "Yes, self-employed                      1367\n",
       "Inapplicable                             532\n",
       "Yes, both employed and self-employed     369\n",
       "Refusal                                    6\n",
       "Don't know                                 3\n",
       "Missing                                    1\n",
       "Name: ca_blwork, dtype: int64"
      ]
     },
     "execution_count": 23,
     "metadata": {},
     "output_type": "execute_result"
    }
   ],
   "source": [
    "data.ca_blwork.value_counts()"
   ]
  },
  {
   "cell_type": "code",
   "execution_count": 24,
   "metadata": {},
   "outputs": [
    {
     "data": {
      "text/plain": [
       "Yes             10777\n",
       "No               6134\n",
       "Inapplicable      532\n",
       "Refusal             6\n",
       "Don't know          3\n",
       "Name: ca_blwork, dtype: int64"
      ]
     },
     "execution_count": 24,
     "metadata": {},
     "output_type": "execute_result"
    }
   ],
   "source": [
    "data['ca_blwork']=data['ca_blwork'].replace('Yes, employed','Yes')\n",
    "data['ca_blwork']=data['ca_blwork'].replace('Yes, self-employed','Yes')\n",
    "data['ca_blwork']=data['ca_blwork'].replace('Yes, both employed and self-employed','Yes')\n",
    "data['ca_blwork']=data['ca_blwork'].replace('Missing','Yes')\n",
    "data.ca_blwork.value_counts()"
   ]
  },
  {
   "cell_type": "code",
   "execution_count": 25,
   "metadata": {},
   "outputs": [
    {
     "data": {
      "text/plain": [
       "Inapplicable    8571\n",
       "No              7117\n",
       "Yes             1754\n",
       "Don't know         5\n",
       "Refusal            3\n",
       "Missing            2\n",
       "Name: ca_furlough, dtype: int64"
      ]
     },
     "execution_count": 25,
     "metadata": {},
     "output_type": "execute_result"
    }
   ],
   "source": [
    "data.ca_furlough.value_counts()"
   ]
  },
  {
   "cell_type": "code",
   "execution_count": 26,
   "metadata": {},
   "outputs": [
    {
     "data": {
      "text/plain": [
       "Inapplicable    8573\n",
       "No              7117\n",
       "Yes             1754\n",
       "Don't know         5\n",
       "Refusal            3\n",
       "Name: ca_furlough, dtype: int64"
      ]
     },
     "execution_count": 26,
     "metadata": {},
     "output_type": "execute_result"
    }
   ],
   "source": [
    "data['ca_furlough']=data['ca_furlough'].replace('Missing','Inapplicable')\n",
    "data.ca_furlough.value_counts()"
   ]
  },
  {
   "cell_type": "code",
   "execution_count": 27,
   "metadata": {},
   "outputs": [
    {
     "data": {
      "text/plain": [
       "Inapplicable    17452\n",
       "Name: ca_sempgovt, dtype: int64"
      ]
     },
     "execution_count": 27,
     "metadata": {},
     "output_type": "execute_result"
    }
   ],
   "source": [
    "data.ca_sempgovt.value_counts()"
   ]
  },
  {
   "cell_type": "code",
   "execution_count": 28,
   "metadata": {},
   "outputs": [
    {
     "data": {
      "text/plain": [
       "Inapplicable    7340\n",
       "No              5588\n",
       "Yes             4515\n",
       "Don't know         6\n",
       "Refusal            3\n",
       "Name: ca_keyworker, dtype: int64"
      ]
     },
     "execution_count": 28,
     "metadata": {},
     "output_type": "execute_result"
    }
   ],
   "source": [
    "data.ca_keyworker.value_counts()"
   ]
  },
  {
   "cell_type": "code",
   "execution_count": 29,
   "metadata": {},
   "outputs": [
    {
     "data": {
      "text/plain": [
       "Inapplicable    7344\n",
       "Never           4720\n",
       "Always          3623\n",
       "Sometimes        992\n",
       "Often            769\n",
       "Refusal            3\n",
       "Missing            1\n",
       "Name: ca_wah, dtype: int64"
      ]
     },
     "execution_count": 29,
     "metadata": {},
     "output_type": "execute_result"
    }
   ],
   "source": [
    "data.ca_wah.value_counts()"
   ]
  },
  {
   "cell_type": "code",
   "execution_count": 30,
   "metadata": {},
   "outputs": [
    {
     "data": {
      "text/plain": [
       "Inapplicable    7345\n",
       "Never           4720\n",
       "Always          3623\n",
       "Sometimes        992\n",
       "Often            769\n",
       "Refusal            3\n",
       "Name: ca_wah, dtype: int64"
      ]
     },
     "execution_count": 30,
     "metadata": {},
     "output_type": "execute_result"
    }
   ],
   "source": [
    "data['ca_wah']=data['ca_wah'].replace('Missing','Inapplicable')\n",
    "data.ca_wah.value_counts()"
   ]
  },
  {
   "cell_type": "code",
   "execution_count": 31,
   "metadata": {},
   "outputs": [
    {
     "data": {
      "text/plain": [
       "Yes             11374\n",
       "No               4752\n",
       "Inapplicable     1319\n",
       "Refusal             5\n",
       "Don't know          2\n",
       "Name: ca_auditc1_cv, dtype: int64"
      ]
     },
     "execution_count": 31,
     "metadata": {},
     "output_type": "execute_result"
    }
   ],
   "source": [
    "data.ca_auditc1_cv.value_counts()"
   ]
  },
  {
   "cell_type": "code",
   "execution_count": 32,
   "metadata": {},
   "outputs": [
    {
     "data": {
      "text/plain": [
       "Inapplicable          6081\n",
       "2-3 times per week    3461\n",
       "2-4 times in total    3204\n",
       "4-6 times per week    2458\n",
       "Daily                 1443\n",
       "Once                   781\n",
       "Never                   15\n",
       "Refusal                  8\n",
       "Don't know               1\n",
       "Name: ca_auditc3_cv, dtype: int64"
      ]
     },
     "execution_count": 32,
     "metadata": {},
     "output_type": "execute_result"
    }
   ],
   "source": [
    "data.ca_auditc3_cv.value_counts()"
   ]
  },
  {
   "cell_type": "code",
   "execution_count": 33,
   "metadata": {},
   "outputs": [
    {
     "data": {
      "text/plain": [
       "Inapplicable    6081\n",
       "three           3461\n",
       "four            3204\n",
       "six             2458\n",
       "Daily           1443\n",
       "Once             781\n",
       "Never             15\n",
       "Refusal            8\n",
       "Don't know         1\n",
       "Name: ca_auditc3_cv, dtype: int64"
      ]
     },
     "execution_count": 33,
     "metadata": {},
     "output_type": "execute_result"
    }
   ],
   "source": [
    "data['ca_auditc3_cv']=data['ca_auditc3_cv'].replace('2-3 times per week','three')\n",
    "data['ca_auditc3_cv']=data['ca_auditc3_cv'].replace('2-4 times in total','four')\n",
    "data['ca_auditc3_cv']=data['ca_auditc3_cv'].replace('4-6 times per week','six')\n",
    "data.ca_auditc3_cv.value_counts()"
   ]
  },
  {
   "cell_type": "code",
   "execution_count": 34,
   "metadata": {},
   "outputs": [
    {
     "data": {
      "text/plain": [
       "No              14721\n",
       "Yes              1394\n",
       "Inapplicable     1332\n",
       "Don't know          2\n",
       "Refusal             2\n",
       "Missing             1\n",
       "Name: ca_smoker, dtype: int64"
      ]
     },
     "execution_count": 34,
     "metadata": {},
     "output_type": "execute_result"
    }
   ],
   "source": [
    "data.ca_smoker.value_counts()"
   ]
  },
  {
   "cell_type": "code",
   "execution_count": 35,
   "metadata": {},
   "outputs": [
    {
     "data": {
      "text/plain": [
       "No              14722\n",
       "Yes              1394\n",
       "Inapplicable     1332\n",
       "Don't know          2\n",
       "Refusal             2\n",
       "Name: ca_smoker, dtype: int64"
      ]
     },
     "execution_count": 35,
     "metadata": {},
     "output_type": "execute_result"
    }
   ],
   "source": [
    "data['ca_smoker']=data['ca_smoker'].replace('Missing','No')\n",
    "data.ca_smoker.value_counts()"
   ]
  },
  {
   "cell_type": "code",
   "execution_count": 36,
   "metadata": {},
   "outputs": [
    {
     "data": {
      "text/plain": [
       "Inapplicable    11882\n",
       "0                1686\n",
       "10                434\n",
       "20                358\n",
       "5                 327\n",
       "                ...  \n",
       "95                  1\n",
       "44                  1\n",
       "68                  1\n",
       "13                  1\n",
       "74                  1\n",
       "Name: ca_timechcare, Length: 93, dtype: int64"
      ]
     },
     "execution_count": 36,
     "metadata": {},
     "output_type": "execute_result"
    }
   ],
   "source": [
    "data.ca_timechcare.value_counts()"
   ]
  },
  {
   "cell_type": "code",
   "execution_count": 37,
   "metadata": {},
   "outputs": [
    {
     "data": {
      "text/plain": [
       "0"
      ]
     },
     "execution_count": 37,
     "metadata": {},
     "output_type": "execute_result"
    }
   ],
   "source": [
    "data['ca_timechcare'].isnull().sum()"
   ]
  },
  {
   "cell_type": "code",
   "execution_count": 40,
   "metadata": {},
   "outputs": [],
   "source": [
    "data['ca_timechcare']=data['ca_timechcare'].fillna(data['ca_timechcare'].mean())"
   ]
  },
  {
   "cell_type": "code",
   "execution_count": 41,
   "metadata": {},
   "outputs": [
    {
     "data": {
      "text/plain": [
       "0"
      ]
     },
     "execution_count": 41,
     "metadata": {},
     "output_type": "execute_result"
    }
   ],
   "source": [
    "data['ca_timechcare'].isnull().sum()"
   ]
  },
  {
   "cell_type": "code",
   "execution_count": 39,
   "metadata": {},
   "outputs": [],
   "source": [
    "data['ca_timechcare'] = np.floor(pd.to_numeric(data['ca_timechcare'], errors='coerce')).astype('Float64')"
   ]
  },
  {
   "cell_type": "code",
   "execution_count": 42,
   "metadata": {},
   "outputs": [
    {
     "data": {
      "text/plain": [
       "17.277110659520268"
      ]
     },
     "execution_count": 42,
     "metadata": {},
     "output_type": "execute_result"
    }
   ],
   "source": [
    "data['ca_timechcare'].mean()"
   ]
  },
  {
   "cell_type": "code",
   "execution_count": 43,
   "metadata": {},
   "outputs": [
    {
     "data": {
      "text/plain": [
       "Missing    1674\n",
       "12         1494\n",
       "6          1307\n",
       "11         1215\n",
       "7          1174\n",
       "10         1167\n",
       "8          1147\n",
       "9          1094\n",
       "13          993\n",
       "14          782\n",
       "15          650\n",
       "16          583\n",
       "17          505\n",
       "18          440\n",
       "5           385\n",
       "19          364\n",
       "20          312\n",
       "21          266\n",
       "22          253\n",
       "23          232\n",
       "4           211\n",
       "24          163\n",
       "25          141\n",
       "3           122\n",
       "26          112\n",
       "27           90\n",
       "2            79\n",
       "28           76\n",
       "29           70\n",
       "30           53\n",
       "36           53\n",
       "31           41\n",
       "32           40\n",
       "0            38\n",
       "1            37\n",
       "33           34\n",
       "34           28\n",
       "35           27\n",
       "Name: ca_scghq1_dv, dtype: int64"
      ]
     },
     "execution_count": 43,
     "metadata": {},
     "output_type": "execute_result"
    }
   ],
   "source": [
    "data['ca_scghq1_dv'].value_counts()"
   ]
  },
  {
   "cell_type": "code",
   "execution_count": 44,
   "metadata": {},
   "outputs": [],
   "source": [
    "data['ca_scghq1_dv'] = np.floor(pd.to_numeric(data['ca_scghq1_dv'], errors='coerce')).astype('Float64')"
   ]
  },
  {
   "cell_type": "code",
   "execution_count": 45,
   "metadata": {},
   "outputs": [
    {
     "data": {
      "text/plain": [
       "1674"
      ]
     },
     "execution_count": 45,
     "metadata": {},
     "output_type": "execute_result"
    }
   ],
   "source": [
    "data['ca_scghq1_dv'].isna().sum()"
   ]
  },
  {
   "cell_type": "code",
   "execution_count": 46,
   "metadata": {},
   "outputs": [],
   "source": [
    "data['ca_scghq1_dv']=data['ca_scghq1_dv'].fillna(data['ca_scghq1_dv'].mean())"
   ]
  },
  {
   "cell_type": "code",
   "execution_count": 47,
   "metadata": {},
   "outputs": [
    {
     "data": {
      "text/plain": [
       "0"
      ]
     },
     "execution_count": 47,
     "metadata": {},
     "output_type": "execute_result"
    }
   ],
   "source": [
    "data['ca_scghq1_dv'].isna().sum()"
   ]
  },
  {
   "cell_type": "code",
   "execution_count": 48,
   "metadata": {},
   "outputs": [
    {
     "data": {
      "text/plain": [
       "701     380\n",
       "3321    373\n",
       "5123    343\n",
       "5122    198\n",
       "5124    183\n",
       "       ... \n",
       "3362      1\n",
       "3925      1\n",
       "3361      1\n",
       "3360      1\n",
       "3224      1\n",
       "Name: strata, Length: 1780, dtype: int64"
      ]
     },
     "execution_count": 48,
     "metadata": {},
     "output_type": "execute_result"
    }
   ],
   "source": [
    "data.strata.value_counts()"
   ]
  },
  {
   "cell_type": "code",
   "execution_count": 49,
   "metadata": {},
   "outputs": [
    {
     "data": {
      "text/plain": [
       "52    399\n",
       "55    396\n",
       "60    382\n",
       "57    378\n",
       "54    370\n",
       "     ... \n",
       "92      5\n",
       "94      1\n",
       "95      1\n",
       "93      1\n",
       "96      1\n",
       "Name: ca_age, Length: 81, dtype: int64"
      ]
     },
     "execution_count": 49,
     "metadata": {},
     "output_type": "execute_result"
    }
   ],
   "source": [
    "data.ca_age.value_counts()"
   ]
  },
  {
   "cell_type": "code",
   "execution_count": 50,
   "metadata": {},
   "outputs": [
    {
     "data": {
      "text/plain": [
       "South East                  2428\n",
       "London                      1849\n",
       "North West                  1716\n",
       "East of England             1689\n",
       "South West                  1598\n",
       "Scotland                    1523\n",
       "Yorkshire and The Humber    1482\n",
       "West Midlands               1479\n",
       "East Midlands               1334\n",
       "Wales                       1018\n",
       "Northern Ireland             742\n",
       "North East                   593\n",
       "Missing                        1\n",
       "Name: ca_gor_dv, dtype: int64"
      ]
     },
     "execution_count": 50,
     "metadata": {},
     "output_type": "execute_result"
    }
   ],
   "source": [
    "data.ca_gor_dv.value_counts()"
   ]
  },
  {
   "cell_type": "code",
   "execution_count": 51,
   "metadata": {},
   "outputs": [],
   "source": [
    "data['ca_gor_dv']=data['ca_gor_dv'].replace('Missing','South East')"
   ]
  },
  {
   "cell_type": "code",
   "execution_count": 52,
   "metadata": {},
   "outputs": [
    {
     "data": {
      "text/plain": [
       "0.000000     3709\n",
       "19.371353      27\n",
       "0.693152        2\n",
       "0.794503        2\n",
       "17.736874       1\n",
       "             ... \n",
       "0.923556        1\n",
       "0.923489        1\n",
       "0.923343        1\n",
       "0.923053        1\n",
       "0.734117        1\n",
       "Name: ca_betaindin_xw, Length: 13716, dtype: int64"
      ]
     },
     "execution_count": 52,
     "metadata": {},
     "output_type": "execute_result"
    }
   ],
   "source": [
    "data.ca_betaindin_xw.value_counts()"
   ]
  },
  {
   "cell_type": "code",
   "execution_count": 53,
   "metadata": {},
   "outputs": [
    {
     "data": {
      "text/plain": [
       "1967       394\n",
       "1965       392\n",
       "1964       382\n",
       "1970       371\n",
       "1959       369\n",
       "          ... \n",
       "refusal      2\n",
       "1926         1\n",
       "1925         1\n",
       "1924         1\n",
       "1923         1\n",
       "Name: birthy, Length: 85, dtype: int64"
      ]
     },
     "execution_count": 53,
     "metadata": {},
     "output_type": "execute_result"
    }
   ],
   "source": [
    "data['birthy'].value_counts()"
   ]
  },
  {
   "cell_type": "code",
   "execution_count": 35,
   "metadata": {},
   "outputs": [],
   "source": [
    "pd.set_option('max_rows',None)"
   ]
  },
  {
   "cell_type": "code",
   "execution_count": 54,
   "metadata": {},
   "outputs": [
    {
     "data": {
      "text/plain": [
       "85       27\n",
       "47       25\n",
       "77       24\n",
       "94       24\n",
       "88       24\n",
       "         ..\n",
       "24858     1\n",
       "24851     1\n",
       "24826     1\n",
       "24726     1\n",
       "52250     1\n",
       "Name: psu, Length: 4166, dtype: int64"
      ]
     },
     "execution_count": 54,
     "metadata": {},
     "output_type": "execute_result"
    }
   ],
   "source": [
    "data['psu'].value_counts()"
   ]
  },
  {
   "cell_type": "code",
   "execution_count": 55,
   "metadata": {},
   "outputs": [],
   "source": [
    "data=data.drop(['ca_sempgovt'],axis=1)"
   ]
  },
  {
   "cell_type": "code",
   "execution_count": 56,
   "metadata": {},
   "outputs": [
    {
     "data": {
      "text/plain": [
       "Index(['pidp', 'psu', 'strata', 'birthy', 'racel_dv', 'bornuk_dv', 'ca_age',\n",
       "       'ca_sex', 'ca_couple', 'ca_hhcompa', 'ca_hhcompb', 'ca_hhcompc',\n",
       "       'ca_hadsymp', 'ca_tested', 'ca_testresult', 'ca_hcond_cv96',\n",
       "       'ca_sclonely_cv', 'ca_blwork', 'ca_furlough', 'ca_keyworker', 'ca_wah',\n",
       "       'ca_timechcare', 'ca_auditc1_cv', 'ca_auditc3_cv', 'ca_smoker',\n",
       "       'ca_scghq1_dv', 'ca_gor_dv', 'ca_betaindin_xw'],\n",
       "      dtype='object')"
      ]
     },
     "execution_count": 56,
     "metadata": {},
     "output_type": "execute_result"
    }
   ],
   "source": [
    "data.columns"
   ]
  },
  {
   "cell_type": "code",
   "execution_count": null,
   "metadata": {},
   "outputs": [],
   "source": []
  },
  {
   "cell_type": "markdown",
   "metadata": {},
   "source": [
    "Now, after checking the data information, we can observe that all columns apart from pidp is a category data type, we'll need to convert each columns to the right data type based on the values in the column."
   ]
  },
  {
   "cell_type": "code",
   "execution_count": 57,
   "metadata": {},
   "outputs": [],
   "source": [
    "data['birthy'] =pd.to_numeric(data['birthy'], errors='coerce').astype('float64') #try to convert to time series\n",
    "data['psu'] = np.floor(pd.to_numeric(data['psu'], errors='coerce')).astype('Float64')\n",
    "data['bornuk_dv']=data['bornuk_dv'].astype(str)\n",
    "data['racel_dv']=data['racel_dv'].astype(str)\n",
    "data['ca_sex']=data['ca_sex'].astype(str)\n",
    "data['ca_couple']=data['ca_couple'].astype(str)\n",
    "data['ca_hhcompb'] = np.floor(pd.to_numeric(data['ca_hhcompb'], errors='coerce')).astype('Float64')\n",
    "data['ca_hhcompa'] = np.floor(pd.to_numeric(data['ca_hhcompa'], errors='coerce')).astype('Float64')\n",
    "data['ca_hhcompc'] = np.floor(pd.to_numeric(data['ca_hhcompc'], errors='coerce')).astype('Float64')\n",
    "data.ca_hadsymp=data.ca_hadsymp.astype(str)\n",
    "data.ca_tested=data.ca_tested.astype(str)\n",
    "data.ca_testresult=data.ca_testresult.astype(str)\n",
    "data.ca_hcond_cv96=data.ca_hcond_cv96.astype(str)\n",
    "data.ca_sclonely_cv=data.ca_sclonely_cv.astype(str)\n",
    "data.ca_blwork=data.ca_blwork.astype(str)\n",
    "data.ca_furlough=data.ca_furlough.astype(str)\n",
    "data.ca_keyworker=data.ca_keyworker.astype(str)\n",
    "data.ca_wah=data.ca_wah.astype(str)\n",
    "data.ca_auditc1_cv=data.ca_auditc1_cv.astype(str)\n",
    "data.ca_auditc3_cv=data.ca_auditc3_cv.astype(str)\n",
    "data.ca_smoker=data.ca_smoker.astype(str)\n",
    "data.ca_gor_dv=data.ca_gor_dv.astype(str)\n",
    "data.ca_betaindin_xw=data.ca_betaindin_xw.astype(float)\n",
    "data['strata'] = np.floor(pd.to_numeric(data['strata'], errors='coerce')).astype('Float64')\n",
    "data.ca_age=data.ca_age.astype(int)"
   ]
  },
  {
   "cell_type": "code",
   "execution_count": 58,
   "metadata": {},
   "outputs": [
    {
     "name": "stdout",
     "output_type": "stream",
     "text": [
      "<class 'pandas.core.frame.DataFrame'>\n",
      "Int64Index: 17452 entries, 0 to 17451\n",
      "Data columns (total 28 columns):\n",
      " #   Column           Non-Null Count  Dtype  \n",
      "---  ------           --------------  -----  \n",
      " 0   pidp             17452 non-null  int32  \n",
      " 1   psu              17449 non-null  float64\n",
      " 2   strata           17449 non-null  float64\n",
      " 3   birthy           17443 non-null  float64\n",
      " 4   racel_dv         17452 non-null  object \n",
      " 5   bornuk_dv        17452 non-null  object \n",
      " 6   ca_age           17452 non-null  int32  \n",
      " 7   ca_sex           17452 non-null  object \n",
      " 8   ca_couple        17452 non-null  object \n",
      " 9   ca_hhcompa       17452 non-null  float64\n",
      " 10  ca_hhcompb       17452 non-null  float64\n",
      " 11  ca_hhcompc       17452 non-null  float64\n",
      " 12  ca_hadsymp       17452 non-null  object \n",
      " 13  ca_tested        17452 non-null  object \n",
      " 14  ca_testresult    17452 non-null  object \n",
      " 15  ca_hcond_cv96    17452 non-null  object \n",
      " 16  ca_sclonely_cv   17452 non-null  object \n",
      " 17  ca_blwork        17452 non-null  object \n",
      " 18  ca_furlough      17452 non-null  object \n",
      " 19  ca_keyworker     17452 non-null  object \n",
      " 20  ca_wah           17452 non-null  object \n",
      " 21  ca_timechcare    17452 non-null  float64\n",
      " 22  ca_auditc1_cv    17452 non-null  object \n",
      " 23  ca_auditc3_cv    17452 non-null  object \n",
      " 24  ca_smoker        17452 non-null  object \n",
      " 25  ca_scghq1_dv     17452 non-null  float64\n",
      " 26  ca_gor_dv        17452 non-null  object \n",
      " 27  ca_betaindin_xw  17452 non-null  float64\n",
      "dtypes: float64(9), int32(2), object(17)\n",
      "memory usage: 3.7+ MB\n"
     ]
    }
   ],
   "source": [
    "data.info()"
   ]
  },
  {
   "cell_type": "code",
   "execution_count": 59,
   "metadata": {},
   "outputs": [
    {
     "data": {
      "text/plain": [
       "british/english/scottish/welsh/northern irish (white)    14029\n",
       "missing                                                    600\n",
       "indian (asian or asian british)                            552\n",
       "any other white background (white)                         532\n",
       "pakistani (asian or asian british)                         385\n",
       "irish (white)                                              245\n",
       "african (black or black britih)                            201\n",
       "caribbean (black or black british)                         173\n",
       "bangladeshi (asian or asian british)                       158\n",
       "any other asian background (asian or asian british)        116\n",
       "white and black caribbean (mixed)                          102\n",
       "white and asian (mixed)                                     85\n",
       "chinese (asian or asian british)                            70\n",
       "any other mixed background (mixed)                          66\n",
       "any other ethnic group (other ethnic group)                 52\n",
       "arab (other ethnic group)                                   35\n",
       "white and black african (mixed)                             31\n",
       "any other black background (black or black britih)          18\n",
       "gypsy or irish traveller (white)                             2\n",
       "Name: racel_dv, dtype: int64"
      ]
     },
     "execution_count": 59,
     "metadata": {},
     "output_type": "execute_result"
    }
   ],
   "source": [
    "data.racel_dv.value_counts()"
   ]
  },
  {
   "cell_type": "code",
   "execution_count": 60,
   "metadata": {},
   "outputs": [],
   "source": [
    "data['racel_dv']=data['racel_dv'].replace('british/english/scottish/welsh/northern irish (white)', 'british')\n",
    "data['racel_dv']=data['racel_dv'].replace('indian (asian or asian british)', 'indian')\n",
    "data['racel_dv']=data['racel_dv'].replace('any other white background (white)', 'white')\n",
    "data['racel_dv']=data['racel_dv'].replace('pakistani (asian or asian british)', 'pakistani')\n",
    "data['racel_dv']=data['racel_dv'].replace('irish (white)','irish')\n",
    "data['racel_dv']=data['racel_dv'].replace('african (black or black britih)', 'african')\n",
    "data['racel_dv']=data['racel_dv'].replace('caribbean (black or black british)','caribbean')\n",
    "data['racel_dv']=data['racel_dv'].replace('bangladeshi (asian or asian british)', 'bangladeshi')\n",
    "data['racel_dv']=data['racel_dv'].replace('any other asian background (asian or asian british)', 'asian')\n",
    "data['racel_dv']=data['racel_dv'].replace('white and black caribbean (mixed)','mixed_caribbean')\n",
    "data['racel_dv']=data['racel_dv'].replace('white and asian (mixed)','mixed_caribbean')\n",
    "data['racel_dv']=data['racel_dv'].replace('white and asian (mixed)','mixed_asian')\n",
    "data['racel_dv']=data['racel_dv'].replace('chinese (asian or asian british)', 'chinese')\n",
    "data['racel_dv']=data['racel_dv'].replace('any other mixed background (mixed)','mixed')\n",
    "data['racel_dv']=data['racel_dv'].replace('any other ethnic group (other ethnic group)', 'other_ethnic')\n",
    "data['racel_dv']=data['racel_dv'].replace('arab (other ethnic group)','arab')\n",
    "data['racel_dv']=data['racel_dv'].replace('white and black african (mixed)','mixed_african')\n",
    "data['racel_dv']=data['racel_dv'].replace('any other black background (black or black britih)','black_british')\n",
    "data['racel_dv']=data['racel_dv'].replace('gypsy or irish traveller (white)','gypsy')"
   ]
  },
  {
   "cell_type": "code",
   "execution_count": 61,
   "metadata": {},
   "outputs": [
    {
     "data": {
      "text/plain": [
       "british            14029\n",
       "missing              600\n",
       "indian               552\n",
       "white                532\n",
       "pakistani            385\n",
       "irish                245\n",
       "african              201\n",
       "mixed_caribbean      187\n",
       "caribbean            173\n",
       "bangladeshi          158\n",
       "asian                116\n",
       "chinese               70\n",
       "mixed                 66\n",
       "other_ethnic          52\n",
       "arab                  35\n",
       "mixed_african         31\n",
       "black_british         18\n",
       "gypsy                  2\n",
       "Name: racel_dv, dtype: int64"
      ]
     },
     "execution_count": 61,
     "metadata": {},
     "output_type": "execute_result"
    }
   ],
   "source": [
    "data.racel_dv.value_counts()"
   ]
  },
  {
   "cell_type": "markdown",
   "metadata": {},
   "source": [
    "Numerical columns will be filled with the mean of the values in the columns while categorical values would be filled with the mode of the vaues in the column"
   ]
  },
  {
   "cell_type": "code",
   "execution_count": 62,
   "metadata": {},
   "outputs": [
    {
     "data": {
      "text/plain": [
       "pidp               0\n",
       "psu                3\n",
       "strata             3\n",
       "birthy             9\n",
       "racel_dv           0\n",
       "bornuk_dv          0\n",
       "ca_age             0\n",
       "ca_sex             0\n",
       "ca_couple          0\n",
       "ca_hhcompa         0\n",
       "ca_hhcompb         0\n",
       "ca_hhcompc         0\n",
       "ca_hadsymp         0\n",
       "ca_tested          0\n",
       "ca_testresult      0\n",
       "ca_hcond_cv96      0\n",
       "ca_sclonely_cv     0\n",
       "ca_blwork          0\n",
       "ca_furlough        0\n",
       "ca_keyworker       0\n",
       "ca_wah             0\n",
       "ca_timechcare      0\n",
       "ca_auditc1_cv      0\n",
       "ca_auditc3_cv      0\n",
       "ca_smoker          0\n",
       "ca_scghq1_dv       0\n",
       "ca_gor_dv          0\n",
       "ca_betaindin_xw    0\n",
       "dtype: int64"
      ]
     },
     "execution_count": 62,
     "metadata": {},
     "output_type": "execute_result"
    }
   ],
   "source": [
    "data.isna().sum()"
   ]
  },
  {
   "cell_type": "code",
   "execution_count": 63,
   "metadata": {},
   "outputs": [],
   "source": [
    "data['strata']=data['strata'].fillna(data['strata'].mean())\n",
    "data['psu']=data['ca_timechcare'].fillna(data['psu'].mean())\n",
    "data['birthy']=data['birthy'].fillna(data['birthy'].mean())"
   ]
  },
  {
   "cell_type": "code",
   "execution_count": 64,
   "metadata": {},
   "outputs": [
    {
     "data": {
      "text/plain": [
       "pidp               0\n",
       "psu                0\n",
       "strata             0\n",
       "birthy             0\n",
       "racel_dv           0\n",
       "bornuk_dv          0\n",
       "ca_age             0\n",
       "ca_sex             0\n",
       "ca_couple          0\n",
       "ca_hhcompa         0\n",
       "ca_hhcompb         0\n",
       "ca_hhcompc         0\n",
       "ca_hadsymp         0\n",
       "ca_tested          0\n",
       "ca_testresult      0\n",
       "ca_hcond_cv96      0\n",
       "ca_sclonely_cv     0\n",
       "ca_blwork          0\n",
       "ca_furlough        0\n",
       "ca_keyworker       0\n",
       "ca_wah             0\n",
       "ca_timechcare      0\n",
       "ca_auditc1_cv      0\n",
       "ca_auditc3_cv      0\n",
       "ca_smoker          0\n",
       "ca_scghq1_dv       0\n",
       "ca_gor_dv          0\n",
       "ca_betaindin_xw    0\n",
       "dtype: int64"
      ]
     },
     "execution_count": 64,
     "metadata": {},
     "output_type": "execute_result"
    }
   ],
   "source": [
    "data.isna().sum()"
   ]
  },
  {
   "cell_type": "code",
   "execution_count": null,
   "metadata": {},
   "outputs": [],
   "source": [
    "pd.set_option('display.max_rows',None )"
   ]
  },
  {
   "cell_type": "code",
   "execution_count": 65,
   "metadata": {},
   "outputs": [
    {
     "data": {
      "text/plain": [
       "pidp               0\n",
       "psu                0\n",
       "strata             0\n",
       "birthy             0\n",
       "racel_dv           0\n",
       "bornuk_dv          0\n",
       "ca_age             0\n",
       "ca_sex             0\n",
       "ca_couple          0\n",
       "ca_hhcompa         0\n",
       "ca_hhcompb         0\n",
       "ca_hhcompc         0\n",
       "ca_hadsymp         0\n",
       "ca_tested          0\n",
       "ca_testresult      0\n",
       "ca_hcond_cv96      0\n",
       "ca_sclonely_cv     0\n",
       "ca_blwork          0\n",
       "ca_furlough        0\n",
       "ca_keyworker       0\n",
       "ca_wah             0\n",
       "ca_timechcare      0\n",
       "ca_auditc1_cv      0\n",
       "ca_auditc3_cv      0\n",
       "ca_smoker          0\n",
       "ca_scghq1_dv       0\n",
       "ca_gor_dv          0\n",
       "ca_betaindin_xw    0\n",
       "dtype: int64"
      ]
     },
     "execution_count": 65,
     "metadata": {},
     "output_type": "execute_result"
    }
   ],
   "source": [
    "data.isna().sum()"
   ]
  },
  {
   "cell_type": "code",
   "execution_count": 66,
   "metadata": {},
   "outputs": [
    {
     "data": {
      "text/html": [
       "<div>\n",
       "<style scoped>\n",
       "    .dataframe tbody tr th:only-of-type {\n",
       "        vertical-align: middle;\n",
       "    }\n",
       "\n",
       "    .dataframe tbody tr th {\n",
       "        vertical-align: top;\n",
       "    }\n",
       "\n",
       "    .dataframe thead th {\n",
       "        text-align: right;\n",
       "    }\n",
       "</style>\n",
       "<table border=\"1\" class=\"dataframe\">\n",
       "  <thead>\n",
       "    <tr style=\"text-align: right;\">\n",
       "      <th></th>\n",
       "      <th>pidp</th>\n",
       "      <th>psu</th>\n",
       "      <th>strata</th>\n",
       "      <th>birthy</th>\n",
       "      <th>ca_age</th>\n",
       "      <th>ca_hhcompa</th>\n",
       "      <th>ca_hhcompb</th>\n",
       "      <th>ca_hhcompc</th>\n",
       "      <th>ca_timechcare</th>\n",
       "      <th>ca_scghq1_dv</th>\n",
       "      <th>ca_betaindin_xw</th>\n",
       "    </tr>\n",
       "  </thead>\n",
       "  <tbody>\n",
       "    <tr>\n",
       "      <th>count</th>\n",
       "      <td>1.745200e+04</td>\n",
       "      <td>17452.000000</td>\n",
       "      <td>17452.000000</td>\n",
       "      <td>17452.000000</td>\n",
       "      <td>17452.000000</td>\n",
       "      <td>17452.000000</td>\n",
       "      <td>17452.000000</td>\n",
       "      <td>17452.000000</td>\n",
       "      <td>17452.000000</td>\n",
       "      <td>17452.000000</td>\n",
       "      <td>17452.000000</td>\n",
       "    </tr>\n",
       "    <tr>\n",
       "      <th>mean</th>\n",
       "      <td>7.759816e+08</td>\n",
       "      <td>17.277111</td>\n",
       "      <td>2290.588572</td>\n",
       "      <td>1968.792524</td>\n",
       "      <td>50.526645</td>\n",
       "      <td>0.123195</td>\n",
       "      <td>0.385744</td>\n",
       "      <td>0.117694</td>\n",
       "      <td>17.277111</td>\n",
       "      <td>12.451768</td>\n",
       "      <td>0.787474</td>\n",
       "    </tr>\n",
       "    <tr>\n",
       "      <th>std</th>\n",
       "      <td>4.668566e+08</td>\n",
       "      <td>14.967358</td>\n",
       "      <td>1318.891283</td>\n",
       "      <td>17.021965</td>\n",
       "      <td>17.028230</td>\n",
       "      <td>0.391381</td>\n",
       "      <td>0.752402</td>\n",
       "      <td>0.355080</td>\n",
       "      <td>14.967358</td>\n",
       "      <td>5.756943</td>\n",
       "      <td>1.222472</td>\n",
       "    </tr>\n",
       "    <tr>\n",
       "      <th>min</th>\n",
       "      <td>7.616500e+04</td>\n",
       "      <td>0.000000</td>\n",
       "      <td>1.000000</td>\n",
       "      <td>1923.000000</td>\n",
       "      <td>16.000000</td>\n",
       "      <td>0.000000</td>\n",
       "      <td>0.000000</td>\n",
       "      <td>0.000000</td>\n",
       "      <td>0.000000</td>\n",
       "      <td>0.000000</td>\n",
       "      <td>0.000000</td>\n",
       "    </tr>\n",
       "    <tr>\n",
       "      <th>25%</th>\n",
       "      <td>3.611235e+08</td>\n",
       "      <td>17.277111</td>\n",
       "      <td>2068.000000</td>\n",
       "      <td>1956.000000</td>\n",
       "      <td>38.000000</td>\n",
       "      <td>0.000000</td>\n",
       "      <td>0.000000</td>\n",
       "      <td>0.000000</td>\n",
       "      <td>17.277111</td>\n",
       "      <td>8.000000</td>\n",
       "      <td>0.194216</td>\n",
       "    </tr>\n",
       "    <tr>\n",
       "      <th>50%</th>\n",
       "      <td>7.480813e+08</td>\n",
       "      <td>17.277111</td>\n",
       "      <td>2550.000000</td>\n",
       "      <td>1968.000000</td>\n",
       "      <td>52.000000</td>\n",
       "      <td>0.000000</td>\n",
       "      <td>0.000000</td>\n",
       "      <td>0.000000</td>\n",
       "      <td>17.277111</td>\n",
       "      <td>12.000000</td>\n",
       "      <td>0.625769</td>\n",
       "    </tr>\n",
       "    <tr>\n",
       "      <th>75%</th>\n",
       "      <td>1.157189e+09</td>\n",
       "      <td>17.277111</td>\n",
       "      <td>3049.000000</td>\n",
       "      <td>1981.000000</td>\n",
       "      <td>64.000000</td>\n",
       "      <td>0.000000</td>\n",
       "      <td>0.000000</td>\n",
       "      <td>0.000000</td>\n",
       "      <td>17.277111</td>\n",
       "      <td>15.000000</td>\n",
       "      <td>0.949669</td>\n",
       "    </tr>\n",
       "    <tr>\n",
       "      <th>max</th>\n",
       "      <td>1.653135e+09</td>\n",
       "      <td>144.000000</td>\n",
       "      <td>5124.000000</td>\n",
       "      <td>2004.000000</td>\n",
       "      <td>96.000000</td>\n",
       "      <td>2.000000</td>\n",
       "      <td>3.000000</td>\n",
       "      <td>2.000000</td>\n",
       "      <td>144.000000</td>\n",
       "      <td>36.000000</td>\n",
       "      <td>19.371353</td>\n",
       "    </tr>\n",
       "  </tbody>\n",
       "</table>\n",
       "</div>"
      ],
      "text/plain": [
       "               pidp           psu        strata        birthy        ca_age  \\\n",
       "count  1.745200e+04  17452.000000  17452.000000  17452.000000  17452.000000   \n",
       "mean   7.759816e+08     17.277111   2290.588572   1968.792524     50.526645   \n",
       "std    4.668566e+08     14.967358   1318.891283     17.021965     17.028230   \n",
       "min    7.616500e+04      0.000000      1.000000   1923.000000     16.000000   \n",
       "25%    3.611235e+08     17.277111   2068.000000   1956.000000     38.000000   \n",
       "50%    7.480813e+08     17.277111   2550.000000   1968.000000     52.000000   \n",
       "75%    1.157189e+09     17.277111   3049.000000   1981.000000     64.000000   \n",
       "max    1.653135e+09    144.000000   5124.000000   2004.000000     96.000000   \n",
       "\n",
       "         ca_hhcompa    ca_hhcompb    ca_hhcompc  ca_timechcare  ca_scghq1_dv  \\\n",
       "count  17452.000000  17452.000000  17452.000000   17452.000000  17452.000000   \n",
       "mean       0.123195      0.385744      0.117694      17.277111     12.451768   \n",
       "std        0.391381      0.752402      0.355080      14.967358      5.756943   \n",
       "min        0.000000      0.000000      0.000000       0.000000      0.000000   \n",
       "25%        0.000000      0.000000      0.000000      17.277111      8.000000   \n",
       "50%        0.000000      0.000000      0.000000      17.277111     12.000000   \n",
       "75%        0.000000      0.000000      0.000000      17.277111     15.000000   \n",
       "max        2.000000      3.000000      2.000000     144.000000     36.000000   \n",
       "\n",
       "       ca_betaindin_xw  \n",
       "count     17452.000000  \n",
       "mean          0.787474  \n",
       "std           1.222472  \n",
       "min           0.000000  \n",
       "25%           0.194216  \n",
       "50%           0.625769  \n",
       "75%           0.949669  \n",
       "max          19.371353  "
      ]
     },
     "execution_count": 66,
     "metadata": {},
     "output_type": "execute_result"
    }
   ],
   "source": [
    "data.describe()"
   ]
  },
  {
   "cell_type": "code",
   "execution_count": 67,
   "metadata": {},
   "outputs": [
    {
     "data": {
      "text/plain": [
       "Index(['pidp', 'psu', 'strata', 'birthy', 'racel_dv', 'bornuk_dv', 'ca_age',\n",
       "       'ca_sex', 'ca_couple', 'ca_hhcompa', 'ca_hhcompb', 'ca_hhcompc',\n",
       "       'ca_hadsymp', 'ca_tested', 'ca_testresult', 'ca_hcond_cv96',\n",
       "       'ca_sclonely_cv', 'ca_blwork', 'ca_furlough', 'ca_keyworker', 'ca_wah',\n",
       "       'ca_timechcare', 'ca_auditc1_cv', 'ca_auditc3_cv', 'ca_smoker',\n",
       "       'ca_scghq1_dv', 'ca_gor_dv', 'ca_betaindin_xw'],\n",
       "      dtype='object')"
      ]
     },
     "execution_count": 67,
     "metadata": {},
     "output_type": "execute_result"
    }
   ],
   "source": [
    "data.columns"
   ]
  },
  {
   "cell_type": "markdown",
   "metadata": {},
   "source": [
    "Ready for some Exploratory Data Analysis just to get relationships between each columns of the datasets relating to the targets (Y)"
   ]
  },
  {
   "cell_type": "code",
   "execution_count": 68,
   "metadata": {},
   "outputs": [],
   "source": [
    "data_num=data[['pidp','psu','strata','ca_age','ca_hhcompa','ca_hhcompb','ca_hhcompc','ca_timechcare','ca_scghq1_dv','ca_betaindin_xw']]\n",
    "data_cat=data[['racel_dv', 'bornuk_dv','ca_sex', 'ca_couple','ca_hadsymp', 'ca_tested', 'ca_testresult', 'ca_hcond_cv96',\n",
    "       'ca_sclonely_cv', 'ca_blwork', 'ca_furlough',\n",
    "       'ca_keyworker', 'ca_wah','ca_auditc1_cv',\n",
    "       'ca_auditc3_cv', 'ca_smoker','ca_gor_dv']]"
   ]
  },
  {
   "cell_type": "code",
   "execution_count": 69,
   "metadata": {},
   "outputs": [
    {
     "data": {
      "image/png": "[encoded data removed]",
      "text/plain": [
       "<Figure size 432x288 with 1 Axes>"
      ]
     },
     "metadata": {
      "needs_background": "light"
     },
     "output_type": "display_data"
    },
    {
     "data": {
      "image/png": "[encoded data removed]",
      "text/plain": [
       "<Figure size 432x288 with 1 Axes>"
      ]
     },
     "metadata": {
      "needs_background": "light"
     },
     "output_type": "display_data"
    },
    {
     "data": {
      "image/png": "[encoded data removed]",
      "text/plain": [
       "<Figure size 432x288 with 1 Axes>"
      ]
     },
     "metadata": {
      "needs_background": "light"
     },
     "output_type": "display_data"
    },
    {
     "data": {
      "image/png": "[encoded data removed]",
      "text/plain": [
       "<Figure size 432x288 with 1 Axes>"
      ]
     },
     "metadata": {
      "needs_background": "light"
     },
     "output_type": "display_data"
    },
    {
     "data": {
      "image/png": "[encoded data removed]",
      "text/plain": [
       "<Figure size 432x288 with 1 Axes>"
      ]
     },
     "metadata": {
      "needs_background": "light"
     },
     "output_type": "display_data"
    },
    {
     "data": {
      "image/png": "[encoded data removed]",
      "text/plain": [
       "<Figure size 432x288 with 1 Axes>"
      ]
     },
     "metadata": {
      "needs_background": "light"
     },
     "output_type": "display_data"
    },
    {
     "data": {
      "image/png": "[encoded data removed]",
      "text/plain": [
       "<Figure size 432x288 with 1 Axes>"
      ]
     },
     "metadata": {
      "needs_background": "light"
     },
     "output_type": "display_data"
    },
    {
     "data": {
      "image/png": "[encoded data removed]",
      "text/plain": [
       "<Figure size 432x288 with 1 Axes>"
      ]
     },
     "metadata": {
      "needs_background": "light"
     },
     "output_type": "display_data"
    },
    {
     "data": {
      "image/png": "[encoded data removed]",
      "text/plain": [
       "<Figure size 432x288 with 1 Axes>"
      ]
     },
     "metadata": {
      "needs_background": "light"
     },
     "output_type": "display_data"
    },
    {
     "data": {
      "image/png": "[encoded data removed]",
      "text/plain": [
       "<Figure size 432x288 with 1 Axes>"
      ]
     },
     "metadata": {
      "needs_background": "light"
     },
     "output_type": "display_data"
    }
   ],
   "source": [
    "for i in data_num.columns:\n",
    "    plt.hist(data_num[i])\n",
    "    plt.title(i)\n",
    "    plt.show()"
   ]
  },
  {
   "cell_type": "code",
   "execution_count": 70,
   "metadata": {
    "scrolled": true
   },
   "outputs": [
    {
     "name": "stdout",
     "output_type": "stream",
     "text": [
      "                     pidp       psu    strata    ca_age  ca_hhcompa  \\\n",
      "pidp             1.000000 -0.006623  0.417612 -0.032606    0.027244   \n",
      "psu             -0.006623  1.000000 -0.012871 -0.052818    0.303129   \n",
      "strata           0.417612 -0.012871  1.000000 -0.071595    0.054266   \n",
      "ca_age          -0.032606 -0.052818 -0.071595  1.000000   -0.245775   \n",
      "ca_hhcompa       0.027244  0.303129  0.054266 -0.245775    1.000000   \n",
      "ca_hhcompb       0.041398 -0.011725  0.074645 -0.280085    0.094894   \n",
      "ca_hhcompc       0.039248 -0.227866  0.046796 -0.153728   -0.023933   \n",
      "ca_timechcare   -0.006623  1.000000 -0.012871 -0.052818    0.303129   \n",
      "ca_scghq1_dv     0.009553  0.057892  0.012756 -0.163795    0.039195   \n",
      "ca_betaindin_xw  0.016074 -0.001546 -0.028098 -0.016878   -0.022161   \n",
      "\n",
      "                 ca_hhcompb  ca_hhcompc  ca_timechcare  ca_scghq1_dv  \\\n",
      "pidp               0.041398    0.039248      -0.006623      0.009553   \n",
      "psu               -0.011725   -0.227866       1.000000      0.057892   \n",
      "strata             0.074645    0.046796      -0.012871      0.012756   \n",
      "ca_age            -0.280085   -0.153728      -0.052818     -0.163795   \n",
      "ca_hhcompa         0.094894   -0.023933       0.303129      0.039195   \n",
      "ca_hhcompb         1.000000    0.115112      -0.011725      0.053048   \n",
      "ca_hhcompc         0.115112    1.000000      -0.227866      0.014052   \n",
      "ca_timechcare     -0.011725   -0.227866       1.000000      0.057892   \n",
      "ca_scghq1_dv       0.053048    0.014052       0.057892      1.000000   \n",
      "ca_betaindin_xw   -0.017250   -0.018841      -0.001546      0.020405   \n",
      "\n",
      "                 ca_betaindin_xw  \n",
      "pidp                    0.016074  \n",
      "psu                    -0.001546  \n",
      "strata                 -0.028098  \n",
      "ca_age                 -0.016878  \n",
      "ca_hhcompa             -0.022161  \n",
      "ca_hhcompb             -0.017250  \n",
      "ca_hhcompc             -0.018841  \n",
      "ca_timechcare          -0.001546  \n",
      "ca_scghq1_dv            0.020405  \n",
      "ca_betaindin_xw         1.000000  \n"
     ]
    },
    {
     "data": {
      "text/plain": [
       "<matplotlib.axes._subplots.AxesSubplot at 0x22bf64dfd90>"
      ]
     },
     "execution_count": 70,
     "metadata": {},
     "output_type": "execute_result"
    },
    {
     "data": {
      "image/png": "[encoded data removed]",
      "text/plain": [
       "<Figure size 432x288 with 2 Axes>"
      ]
     },
     "metadata": {
      "needs_background": "light"
     },
     "output_type": "display_data"
    }
   ],
   "source": [
    "print(data_num.corr())\n",
    "sns.heatmap(data_num.corr())"
   ]
  },
  {
   "cell_type": "markdown",
   "metadata": {},
   "source": [
    "After checking their respective correlations, values that are closer to +1 are considered highly correlated and closer to -1 are considered highly negative correlated\n",
    "\n",
    "And also, getting the pivot details in terms of the mean showings different mean values at different stages of the target variable"
   ]
  },
  {
   "cell_type": "code",
   "execution_count": 71,
   "metadata": {
    "scrolled": true
   },
   "outputs": [
    {
     "data": {
      "text/html": [
       "<div>\n",
       "<style scoped>\n",
       "    .dataframe tbody tr th:only-of-type {\n",
       "        vertical-align: middle;\n",
       "    }\n",
       "\n",
       "    .dataframe tbody tr th {\n",
       "        vertical-align: top;\n",
       "    }\n",
       "\n",
       "    .dataframe thead th {\n",
       "        text-align: right;\n",
       "    }\n",
       "</style>\n",
       "<table border=\"1\" class=\"dataframe\">\n",
       "  <thead>\n",
       "    <tr style=\"text-align: right;\">\n",
       "      <th></th>\n",
       "      <th>birthy</th>\n",
       "      <th>ca_age</th>\n",
       "      <th>ca_betaindin_xw</th>\n",
       "      <th>ca_hhcompa</th>\n",
       "      <th>ca_hhcompb</th>\n",
       "      <th>ca_hhcompc</th>\n",
       "      <th>ca_timechcare</th>\n",
       "      <th>pidp</th>\n",
       "      <th>psu</th>\n",
       "      <th>strata</th>\n",
       "    </tr>\n",
       "    <tr>\n",
       "      <th>ca_scghq1_dv</th>\n",
       "      <th></th>\n",
       "      <th></th>\n",
       "      <th></th>\n",
       "      <th></th>\n",
       "      <th></th>\n",
       "      <th></th>\n",
       "      <th></th>\n",
       "      <th></th>\n",
       "      <th></th>\n",
       "      <th></th>\n",
       "    </tr>\n",
       "  </thead>\n",
       "  <tbody>\n",
       "    <tr>\n",
       "      <th>0.000000</th>\n",
       "      <td>1974.078947</td>\n",
       "      <td>45.184211</td>\n",
       "      <td>0.726388</td>\n",
       "      <td>0.157895</td>\n",
       "      <td>0.500000</td>\n",
       "      <td>0.105263</td>\n",
       "      <td>18.487953</td>\n",
       "      <td>7.538208e+08</td>\n",
       "      <td>18.487953</td>\n",
       "      <td>2564.236842</td>\n",
       "    </tr>\n",
       "    <tr>\n",
       "      <th>1.000000</th>\n",
       "      <td>1972.891892</td>\n",
       "      <td>46.432432</td>\n",
       "      <td>0.591908</td>\n",
       "      <td>0.108108</td>\n",
       "      <td>0.621622</td>\n",
       "      <td>0.189189</td>\n",
       "      <td>17.496582</td>\n",
       "      <td>7.195396e+08</td>\n",
       "      <td>17.496582</td>\n",
       "      <td>1914.405405</td>\n",
       "    </tr>\n",
       "    <tr>\n",
       "      <th>2.000000</th>\n",
       "      <td>1968.746835</td>\n",
       "      <td>50.607595</td>\n",
       "      <td>0.744720</td>\n",
       "      <td>0.164557</td>\n",
       "      <td>0.417722</td>\n",
       "      <td>0.151899</td>\n",
       "      <td>19.177522</td>\n",
       "      <td>7.798641e+08</td>\n",
       "      <td>19.177522</td>\n",
       "      <td>2166.126582</td>\n",
       "    </tr>\n",
       "    <tr>\n",
       "      <th>3.000000</th>\n",
       "      <td>1969.852459</td>\n",
       "      <td>49.508197</td>\n",
       "      <td>0.858000</td>\n",
       "      <td>0.122951</td>\n",
       "      <td>0.401639</td>\n",
       "      <td>0.057377</td>\n",
       "      <td>17.130260</td>\n",
       "      <td>7.884734e+08</td>\n",
       "      <td>17.130260</td>\n",
       "      <td>2300.450820</td>\n",
       "    </tr>\n",
       "    <tr>\n",
       "      <th>4.000000</th>\n",
       "      <td>1968.658768</td>\n",
       "      <td>50.677725</td>\n",
       "      <td>0.721579</td>\n",
       "      <td>0.061611</td>\n",
       "      <td>0.459716</td>\n",
       "      <td>0.137441</td>\n",
       "      <td>16.949810</td>\n",
       "      <td>7.182818e+08</td>\n",
       "      <td>16.949810</td>\n",
       "      <td>2145.981043</td>\n",
       "    </tr>\n",
       "    <tr>\n",
       "      <th>5.000000</th>\n",
       "      <td>1967.345455</td>\n",
       "      <td>51.987013</td>\n",
       "      <td>0.658877</td>\n",
       "      <td>0.127273</td>\n",
       "      <td>0.412987</td>\n",
       "      <td>0.150649</td>\n",
       "      <td>16.214303</td>\n",
       "      <td>7.586253e+08</td>\n",
       "      <td>16.214303</td>\n",
       "      <td>2231.800000</td>\n",
       "    </tr>\n",
       "    <tr>\n",
       "      <th>6.000000</th>\n",
       "      <td>1962.881249</td>\n",
       "      <td>56.442234</td>\n",
       "      <td>0.824009</td>\n",
       "      <td>0.087988</td>\n",
       "      <td>0.265493</td>\n",
       "      <td>0.094109</td>\n",
       "      <td>16.067212</td>\n",
       "      <td>7.716361e+08</td>\n",
       "      <td>16.067212</td>\n",
       "      <td>2239.526396</td>\n",
       "    </tr>\n",
       "    <tr>\n",
       "      <th>7.000000</th>\n",
       "      <td>1962.934412</td>\n",
       "      <td>56.381601</td>\n",
       "      <td>0.721178</td>\n",
       "      <td>0.074106</td>\n",
       "      <td>0.269165</td>\n",
       "      <td>0.099659</td>\n",
       "      <td>16.527844</td>\n",
       "      <td>7.640169e+08</td>\n",
       "      <td>16.527844</td>\n",
       "      <td>2236.541738</td>\n",
       "    </tr>\n",
       "    <tr>\n",
       "      <th>8.000000</th>\n",
       "      <td>1963.540541</td>\n",
       "      <td>55.770706</td>\n",
       "      <td>0.821080</td>\n",
       "      <td>0.095031</td>\n",
       "      <td>0.329555</td>\n",
       "      <td>0.102877</td>\n",
       "      <td>16.255367</td>\n",
       "      <td>7.461111e+08</td>\n",
       "      <td>16.255367</td>\n",
       "      <td>2233.997384</td>\n",
       "    </tr>\n",
       "    <tr>\n",
       "      <th>9.000000</th>\n",
       "      <td>1964.603101</td>\n",
       "      <td>54.723035</td>\n",
       "      <td>0.705826</td>\n",
       "      <td>0.092322</td>\n",
       "      <td>0.302559</td>\n",
       "      <td>0.091408</td>\n",
       "      <td>16.633336</td>\n",
       "      <td>7.856585e+08</td>\n",
       "      <td>16.633336</td>\n",
       "      <td>2269.264706</td>\n",
       "    </tr>\n",
       "    <tr>\n",
       "      <th>10.000000</th>\n",
       "      <td>1966.453121</td>\n",
       "      <td>52.874036</td>\n",
       "      <td>0.818558</td>\n",
       "      <td>0.097686</td>\n",
       "      <td>0.381320</td>\n",
       "      <td>0.122536</td>\n",
       "      <td>16.534066</td>\n",
       "      <td>7.675274e+08</td>\n",
       "      <td>16.534066</td>\n",
       "      <td>2274.996220</td>\n",
       "    </tr>\n",
       "    <tr>\n",
       "      <th>11.000000</th>\n",
       "      <td>1967.107819</td>\n",
       "      <td>52.223868</td>\n",
       "      <td>0.769428</td>\n",
       "      <td>0.130041</td>\n",
       "      <td>0.322634</td>\n",
       "      <td>0.102058</td>\n",
       "      <td>16.642889</td>\n",
       "      <td>7.542079e+08</td>\n",
       "      <td>16.642889</td>\n",
       "      <td>2286.004115</td>\n",
       "    </tr>\n",
       "    <tr>\n",
       "      <th>12.000000</th>\n",
       "      <td>1968.584198</td>\n",
       "      <td>50.724900</td>\n",
       "      <td>0.797833</td>\n",
       "      <td>0.120482</td>\n",
       "      <td>0.337349</td>\n",
       "      <td>0.119143</td>\n",
       "      <td>17.093960</td>\n",
       "      <td>7.717810e+08</td>\n",
       "      <td>17.093960</td>\n",
       "      <td>2269.050870</td>\n",
       "    </tr>\n",
       "    <tr>\n",
       "      <th>12.451768</th>\n",
       "      <td>1978.551250</td>\n",
       "      <td>40.758065</td>\n",
       "      <td>0.822237</td>\n",
       "      <td>0.217443</td>\n",
       "      <td>0.623059</td>\n",
       "      <td>0.189367</td>\n",
       "      <td>17.259599</td>\n",
       "      <td>8.418077e+08</td>\n",
       "      <td>17.259599</td>\n",
       "      <td>2522.713262</td>\n",
       "    </tr>\n",
       "    <tr>\n",
       "      <th>13.000000</th>\n",
       "      <td>1968.053374</td>\n",
       "      <td>51.292044</td>\n",
       "      <td>0.780408</td>\n",
       "      <td>0.084592</td>\n",
       "      <td>0.384693</td>\n",
       "      <td>0.110775</td>\n",
       "      <td>16.443322</td>\n",
       "      <td>7.704252e+08</td>\n",
       "      <td>16.443322</td>\n",
       "      <td>2271.287009</td>\n",
       "    </tr>\n",
       "    <tr>\n",
       "      <th>14.000000</th>\n",
       "      <td>1969.095908</td>\n",
       "      <td>50.205882</td>\n",
       "      <td>0.754633</td>\n",
       "      <td>0.126598</td>\n",
       "      <td>0.398977</td>\n",
       "      <td>0.107417</td>\n",
       "      <td>17.925324</td>\n",
       "      <td>7.714384e+08</td>\n",
       "      <td>17.925324</td>\n",
       "      <td>2258.666240</td>\n",
       "    </tr>\n",
       "    <tr>\n",
       "      <th>15.000000</th>\n",
       "      <td>1969.515065</td>\n",
       "      <td>49.809231</td>\n",
       "      <td>0.793173</td>\n",
       "      <td>0.146154</td>\n",
       "      <td>0.338462</td>\n",
       "      <td>0.103077</td>\n",
       "      <td>17.687768</td>\n",
       "      <td>7.690005e+08</td>\n",
       "      <td>17.687768</td>\n",
       "      <td>2261.253846</td>\n",
       "    </tr>\n",
       "    <tr>\n",
       "      <th>16.000000</th>\n",
       "      <td>1970.416810</td>\n",
       "      <td>48.907376</td>\n",
       "      <td>0.759431</td>\n",
       "      <td>0.140652</td>\n",
       "      <td>0.377358</td>\n",
       "      <td>0.099485</td>\n",
       "      <td>19.015005</td>\n",
       "      <td>7.847838e+08</td>\n",
       "      <td>19.015005</td>\n",
       "      <td>2276.240137</td>\n",
       "    </tr>\n",
       "    <tr>\n",
       "      <th>17.000000</th>\n",
       "      <td>1971.972277</td>\n",
       "      <td>47.330693</td>\n",
       "      <td>0.720150</td>\n",
       "      <td>0.134653</td>\n",
       "      <td>0.431683</td>\n",
       "      <td>0.110891</td>\n",
       "      <td>18.180343</td>\n",
       "      <td>7.491642e+08</td>\n",
       "      <td>18.180343</td>\n",
       "      <td>2340.166337</td>\n",
       "    </tr>\n",
       "    <tr>\n",
       "      <th>18.000000</th>\n",
       "      <td>1971.454074</td>\n",
       "      <td>47.859091</td>\n",
       "      <td>0.753245</td>\n",
       "      <td>0.145455</td>\n",
       "      <td>0.440909</td>\n",
       "      <td>0.131818</td>\n",
       "      <td>18.974591</td>\n",
       "      <td>7.980606e+08</td>\n",
       "      <td>18.974591</td>\n",
       "      <td>2309.270455</td>\n",
       "    </tr>\n",
       "    <tr>\n",
       "      <th>19.000000</th>\n",
       "      <td>1972.771978</td>\n",
       "      <td>46.549451</td>\n",
       "      <td>0.794762</td>\n",
       "      <td>0.162088</td>\n",
       "      <td>0.425824</td>\n",
       "      <td>0.126374</td>\n",
       "      <td>18.307760</td>\n",
       "      <td>7.493271e+08</td>\n",
       "      <td>18.307760</td>\n",
       "      <td>2126.541209</td>\n",
       "    </tr>\n",
       "    <tr>\n",
       "      <th>20.000000</th>\n",
       "      <td>1972.445513</td>\n",
       "      <td>46.913462</td>\n",
       "      <td>0.776122</td>\n",
       "      <td>0.121795</td>\n",
       "      <td>0.432692</td>\n",
       "      <td>0.099359</td>\n",
       "      <td>18.960574</td>\n",
       "      <td>7.931871e+08</td>\n",
       "      <td>18.960574</td>\n",
       "      <td>2389.746795</td>\n",
       "    </tr>\n",
       "    <tr>\n",
       "      <th>21.000000</th>\n",
       "      <td>1972.729323</td>\n",
       "      <td>46.593985</td>\n",
       "      <td>1.082065</td>\n",
       "      <td>0.112782</td>\n",
       "      <td>0.390977</td>\n",
       "      <td>0.078947</td>\n",
       "      <td>18.331010</td>\n",
       "      <td>8.063113e+08</td>\n",
       "      <td>18.331010</td>\n",
       "      <td>2404.041353</td>\n",
       "    </tr>\n",
       "    <tr>\n",
       "      <th>22.000000</th>\n",
       "      <td>1972.995227</td>\n",
       "      <td>46.221344</td>\n",
       "      <td>0.746568</td>\n",
       "      <td>0.150198</td>\n",
       "      <td>0.403162</td>\n",
       "      <td>0.098814</td>\n",
       "      <td>20.852471</td>\n",
       "      <td>7.721230e+08</td>\n",
       "      <td>20.852471</td>\n",
       "      <td>2318.053710</td>\n",
       "    </tr>\n",
       "    <tr>\n",
       "      <th>23.000000</th>\n",
       "      <td>1973.702586</td>\n",
       "      <td>45.655172</td>\n",
       "      <td>0.753665</td>\n",
       "      <td>0.159483</td>\n",
       "      <td>0.568966</td>\n",
       "      <td>0.159483</td>\n",
       "      <td>20.073848</td>\n",
       "      <td>7.934660e+08</td>\n",
       "      <td>20.073848</td>\n",
       "      <td>2325.530172</td>\n",
       "    </tr>\n",
       "    <tr>\n",
       "      <th>24.000000</th>\n",
       "      <td>1971.711656</td>\n",
       "      <td>47.650307</td>\n",
       "      <td>0.923596</td>\n",
       "      <td>0.134969</td>\n",
       "      <td>0.441718</td>\n",
       "      <td>0.147239</td>\n",
       "      <td>20.404835</td>\n",
       "      <td>8.279953e+08</td>\n",
       "      <td>20.404835</td>\n",
       "      <td>2288.306748</td>\n",
       "    </tr>\n",
       "    <tr>\n",
       "      <th>25.000000</th>\n",
       "      <td>1972.900709</td>\n",
       "      <td>46.439716</td>\n",
       "      <td>0.762865</td>\n",
       "      <td>0.156028</td>\n",
       "      <td>0.382979</td>\n",
       "      <td>0.141844</td>\n",
       "      <td>19.759636</td>\n",
       "      <td>8.649675e+08</td>\n",
       "      <td>19.759636</td>\n",
       "      <td>2184.156028</td>\n",
       "    </tr>\n",
       "    <tr>\n",
       "      <th>26.000000</th>\n",
       "      <td>1973.866071</td>\n",
       "      <td>45.455357</td>\n",
       "      <td>0.864959</td>\n",
       "      <td>0.107143</td>\n",
       "      <td>0.535714</td>\n",
       "      <td>0.151786</td>\n",
       "      <td>16.584446</td>\n",
       "      <td>7.454802e+08</td>\n",
       "      <td>16.584446</td>\n",
       "      <td>2244.205357</td>\n",
       "    </tr>\n",
       "    <tr>\n",
       "      <th>27.000000</th>\n",
       "      <td>1972.955556</td>\n",
       "      <td>46.344444</td>\n",
       "      <td>0.786131</td>\n",
       "      <td>0.133333</td>\n",
       "      <td>0.388889</td>\n",
       "      <td>0.077778</td>\n",
       "      <td>19.645249</td>\n",
       "      <td>7.137800e+08</td>\n",
       "      <td>19.645249</td>\n",
       "      <td>2331.322222</td>\n",
       "    </tr>\n",
       "    <tr>\n",
       "      <th>28.000000</th>\n",
       "      <td>1975.339375</td>\n",
       "      <td>43.697368</td>\n",
       "      <td>0.934522</td>\n",
       "      <td>0.157895</td>\n",
       "      <td>0.605263</td>\n",
       "      <td>0.171053</td>\n",
       "      <td>19.547877</td>\n",
       "      <td>7.805493e+08</td>\n",
       "      <td>19.547877</td>\n",
       "      <td>2235.605263</td>\n",
       "    </tr>\n",
       "    <tr>\n",
       "      <th>29.000000</th>\n",
       "      <td>1973.514286</td>\n",
       "      <td>45.842857</td>\n",
       "      <td>1.046959</td>\n",
       "      <td>0.142857</td>\n",
       "      <td>0.457143</td>\n",
       "      <td>0.128571</td>\n",
       "      <td>19.176593</td>\n",
       "      <td>7.313601e+08</td>\n",
       "      <td>19.176593</td>\n",
       "      <td>2311.128571</td>\n",
       "    </tr>\n",
       "    <tr>\n",
       "      <th>30.000000</th>\n",
       "      <td>1976.377358</td>\n",
       "      <td>42.943396</td>\n",
       "      <td>1.044733</td>\n",
       "      <td>0.207547</td>\n",
       "      <td>0.264151</td>\n",
       "      <td>0.075472</td>\n",
       "      <td>21.546717</td>\n",
       "      <td>7.173698e+08</td>\n",
       "      <td>21.546717</td>\n",
       "      <td>2217.735849</td>\n",
       "    </tr>\n",
       "    <tr>\n",
       "      <th>31.000000</th>\n",
       "      <td>1976.195122</td>\n",
       "      <td>43.146341</td>\n",
       "      <td>0.856671</td>\n",
       "      <td>0.121951</td>\n",
       "      <td>0.414634</td>\n",
       "      <td>0.073171</td>\n",
       "      <td>19.164856</td>\n",
       "      <td>7.763487e+08</td>\n",
       "      <td>19.164856</td>\n",
       "      <td>2382.707317</td>\n",
       "    </tr>\n",
       "    <tr>\n",
       "      <th>32.000000</th>\n",
       "      <td>1975.275000</td>\n",
       "      <td>43.925000</td>\n",
       "      <td>0.745081</td>\n",
       "      <td>0.150000</td>\n",
       "      <td>0.375000</td>\n",
       "      <td>0.100000</td>\n",
       "      <td>18.525905</td>\n",
       "      <td>8.304771e+08</td>\n",
       "      <td>18.525905</td>\n",
       "      <td>2034.575000</td>\n",
       "    </tr>\n",
       "    <tr>\n",
       "      <th>33.000000</th>\n",
       "      <td>1975.705882</td>\n",
       "      <td>43.794118</td>\n",
       "      <td>0.833031</td>\n",
       "      <td>0.088235</td>\n",
       "      <td>0.970588</td>\n",
       "      <td>0.117647</td>\n",
       "      <td>17.025869</td>\n",
       "      <td>7.145372e+08</td>\n",
       "      <td>17.025869</td>\n",
       "      <td>2016.529412</td>\n",
       "    </tr>\n",
       "    <tr>\n",
       "      <th>34.000000</th>\n",
       "      <td>1973.107143</td>\n",
       "      <td>46.142857</td>\n",
       "      <td>0.955600</td>\n",
       "      <td>0.214286</td>\n",
       "      <td>0.571429</td>\n",
       "      <td>0.250000</td>\n",
       "      <td>11.898452</td>\n",
       "      <td>7.309666e+08</td>\n",
       "      <td>11.898452</td>\n",
       "      <td>2447.714286</td>\n",
       "    </tr>\n",
       "    <tr>\n",
       "      <th>35.000000</th>\n",
       "      <td>1970.370370</td>\n",
       "      <td>49.000000</td>\n",
       "      <td>0.924775</td>\n",
       "      <td>0.111111</td>\n",
       "      <td>0.222222</td>\n",
       "      <td>0.185185</td>\n",
       "      <td>18.100403</td>\n",
       "      <td>6.982202e+08</td>\n",
       "      <td>18.100403</td>\n",
       "      <td>2076.888889</td>\n",
       "    </tr>\n",
       "    <tr>\n",
       "      <th>36.000000</th>\n",
       "      <td>1975.320755</td>\n",
       "      <td>43.905660</td>\n",
       "      <td>1.058273</td>\n",
       "      <td>0.075472</td>\n",
       "      <td>0.415094</td>\n",
       "      <td>0.132075</td>\n",
       "      <td>20.217551</td>\n",
       "      <td>7.453918e+08</td>\n",
       "      <td>20.217551</td>\n",
       "      <td>2547.188679</td>\n",
       "    </tr>\n",
       "  </tbody>\n",
       "</table>\n",
       "</div>"
      ],
      "text/plain": [
       "                   birthy     ca_age  ca_betaindin_xw  ca_hhcompa  ca_hhcompb  \\\n",
       "ca_scghq1_dv                                                                    \n",
       "0.000000      1974.078947  45.184211         0.726388    0.157895    0.500000   \n",
       "1.000000      1972.891892  46.432432         0.591908    0.108108    0.621622   \n",
       "2.000000      1968.746835  50.607595         0.744720    0.164557    0.417722   \n",
       "3.000000      1969.852459  49.508197         0.858000    0.122951    0.401639   \n",
       "4.000000      1968.658768  50.677725         0.721579    0.061611    0.459716   \n",
       "5.000000      1967.345455  51.987013         0.658877    0.127273    0.412987   \n",
       "6.000000      1962.881249  56.442234         0.824009    0.087988    0.265493   \n",
       "7.000000      1962.934412  56.381601         0.721178    0.074106    0.269165   \n",
       "8.000000      1963.540541  55.770706         0.821080    0.095031    0.329555   \n",
       "9.000000      1964.603101  54.723035         0.705826    0.092322    0.302559   \n",
       "10.000000     1966.453121  52.874036         0.818558    0.097686    0.381320   \n",
       "11.000000     1967.107819  52.223868         0.769428    0.130041    0.322634   \n",
       "12.000000     1968.584198  50.724900         0.797833    0.120482    0.337349   \n",
       "12.451768     1978.551250  40.758065         0.822237    0.217443    0.623059   \n",
       "13.000000     1968.053374  51.292044         0.780408    0.084592    0.384693   \n",
       "14.000000     1969.095908  50.205882         0.754633    0.126598    0.398977   \n",
       "15.000000     1969.515065  49.809231         0.793173    0.146154    0.338462   \n",
       "16.000000     1970.416810  48.907376         0.759431    0.140652    0.377358   \n",
       "17.000000     1971.972277  47.330693         0.720150    0.134653    0.431683   \n",
       "18.000000     1971.454074  47.859091         0.753245    0.145455    0.440909   \n",
       "19.000000     1972.771978  46.549451         0.794762    0.162088    0.425824   \n",
       "20.000000     1972.445513  46.913462         0.776122    0.121795    0.432692   \n",
       "21.000000     1972.729323  46.593985         1.082065    0.112782    0.390977   \n",
       "22.000000     1972.995227  46.221344         0.746568    0.150198    0.403162   \n",
       "23.000000     1973.702586  45.655172         0.753665    0.159483    0.568966   \n",
       "24.000000     1971.711656  47.650307         0.923596    0.134969    0.441718   \n",
       "25.000000     1972.900709  46.439716         0.762865    0.156028    0.382979   \n",
       "26.000000     1973.866071  45.455357         0.864959    0.107143    0.535714   \n",
       "27.000000     1972.955556  46.344444         0.786131    0.133333    0.388889   \n",
       "28.000000     1975.339375  43.697368         0.934522    0.157895    0.605263   \n",
       "29.000000     1973.514286  45.842857         1.046959    0.142857    0.457143   \n",
       "30.000000     1976.377358  42.943396         1.044733    0.207547    0.264151   \n",
       "31.000000     1976.195122  43.146341         0.856671    0.121951    0.414634   \n",
       "32.000000     1975.275000  43.925000         0.745081    0.150000    0.375000   \n",
       "33.000000     1975.705882  43.794118         0.833031    0.088235    0.970588   \n",
       "34.000000     1973.107143  46.142857         0.955600    0.214286    0.571429   \n",
       "35.000000     1970.370370  49.000000         0.924775    0.111111    0.222222   \n",
       "36.000000     1975.320755  43.905660         1.058273    0.075472    0.415094   \n",
       "\n",
       "              ca_hhcompc  ca_timechcare          pidp        psu       strata  \n",
       "ca_scghq1_dv                                                                   \n",
       "0.000000        0.105263      18.487953  7.538208e+08  18.487953  2564.236842  \n",
       "1.000000        0.189189      17.496582  7.195396e+08  17.496582  1914.405405  \n",
       "2.000000        0.151899      19.177522  7.798641e+08  19.177522  2166.126582  \n",
       "3.000000        0.057377      17.130260  7.884734e+08  17.130260  2300.450820  \n",
       "4.000000        0.137441      16.949810  7.182818e+08  16.949810  2145.981043  \n",
       "5.000000        0.150649      16.214303  7.586253e+08  16.214303  2231.800000  \n",
       "6.000000        0.094109      16.067212  7.716361e+08  16.067212  2239.526396  \n",
       "7.000000        0.099659      16.527844  7.640169e+08  16.527844  2236.541738  \n",
       "8.000000        0.102877      16.255367  7.461111e+08  16.255367  2233.997384  \n",
       "9.000000        0.091408      16.633336  7.856585e+08  16.633336  2269.264706  \n",
       "10.000000       0.122536      16.534066  7.675274e+08  16.534066  2274.996220  \n",
       "11.000000       0.102058      16.642889  7.542079e+08  16.642889  2286.004115  \n",
       "12.000000       0.119143      17.093960  7.717810e+08  17.093960  2269.050870  \n",
       "12.451768       0.189367      17.259599  8.418077e+08  17.259599  2522.713262  \n",
       "13.000000       0.110775      16.443322  7.704252e+08  16.443322  2271.287009  \n",
       "14.000000       0.107417      17.925324  7.714384e+08  17.925324  2258.666240  \n",
       "15.000000       0.103077      17.687768  7.690005e+08  17.687768  2261.253846  \n",
       "16.000000       0.099485      19.015005  7.847838e+08  19.015005  2276.240137  \n",
       "17.000000       0.110891      18.180343  7.491642e+08  18.180343  2340.166337  \n",
       "18.000000       0.131818      18.974591  7.980606e+08  18.974591  2309.270455  \n",
       "19.000000       0.126374      18.307760  7.493271e+08  18.307760  2126.541209  \n",
       "20.000000       0.099359      18.960574  7.931871e+08  18.960574  2389.746795  \n",
       "21.000000       0.078947      18.331010  8.063113e+08  18.331010  2404.041353  \n",
       "22.000000       0.098814      20.852471  7.721230e+08  20.852471  2318.053710  \n",
       "23.000000       0.159483      20.073848  7.934660e+08  20.073848  2325.530172  \n",
       "24.000000       0.147239      20.404835  8.279953e+08  20.404835  2288.306748  \n",
       "25.000000       0.141844      19.759636  8.649675e+08  19.759636  2184.156028  \n",
       "26.000000       0.151786      16.584446  7.454802e+08  16.584446  2244.205357  \n",
       "27.000000       0.077778      19.645249  7.137800e+08  19.645249  2331.322222  \n",
       "28.000000       0.171053      19.547877  7.805493e+08  19.547877  2235.605263  \n",
       "29.000000       0.128571      19.176593  7.313601e+08  19.176593  2311.128571  \n",
       "30.000000       0.075472      21.546717  7.173698e+08  21.546717  2217.735849  \n",
       "31.000000       0.073171      19.164856  7.763487e+08  19.164856  2382.707317  \n",
       "32.000000       0.100000      18.525905  8.304771e+08  18.525905  2034.575000  \n",
       "33.000000       0.117647      17.025869  7.145372e+08  17.025869  2016.529412  \n",
       "34.000000       0.250000      11.898452  7.309666e+08  11.898452  2447.714286  \n",
       "35.000000       0.185185      18.100403  6.982202e+08  18.100403  2076.888889  \n",
       "36.000000       0.132075      20.217551  7.453918e+08  20.217551  2547.188679  "
      ]
     },
     "execution_count": 71,
     "metadata": {},
     "output_type": "execute_result"
    }
   ],
   "source": [
    "data_pivot=pd.pivot_table(data, index='ca_scghq1_dv', values=['pidp','psu','strata','birthy','ca_age','ca_hhcompa','ca_hhcompb','ca_hhcompc','ca_timechcare','ca_betaindin_xw'])\n",
    "data_pivot"
   ]
  },
  {
   "cell_type": "code",
   "execution_count": 72,
   "metadata": {},
   "outputs": [
    {
     "data": {
      "text/plain": [
       "<matplotlib.axes._subplots.AxesSubplot at 0x22bf644b460>"
      ]
     },
     "execution_count": 72,
     "metadata": {},
     "output_type": "execute_result"
    },
    {
     "data": {
      "image/png": "[encoded data removed]",
      "text/plain": [
       "<Figure size 432x288 with 1 Axes>"
      ]
     },
     "metadata": {
      "needs_background": "light"
     },
     "output_type": "display_data"
    }
   ],
   "source": [
    "sns.scatterplot(data_pivot.index,data_pivot.ca_age)"
   ]
  },
  {
   "cell_type": "code",
   "execution_count": 73,
   "metadata": {},
   "outputs": [
    {
     "data": {
      "text/plain": [
       "<matplotlib.axes._subplots.AxesSubplot at 0x22bf644b5e0>"
      ]
     },
     "execution_count": 73,
     "metadata": {},
     "output_type": "execute_result"
    },
    {
     "data": {
      "image/png": "[encoded data removed]",
      "text/plain": [
       "<Figure size 432x288 with 1 Axes>"
      ]
     },
     "metadata": {
      "needs_background": "light"
     },
     "output_type": "display_data"
    }
   ],
   "source": [
    "sns.scatterplot(data.ca_scghq1_dv,data.ca_timechcare)"
   ]
  },
  {
   "cell_type": "code",
   "execution_count": 74,
   "metadata": {},
   "outputs": [
    {
     "data": {
      "text/plain": [
       "<matplotlib.axes._subplots.AxesSubplot at 0x22bf6490d30>"
      ]
     },
     "execution_count": 74,
     "metadata": {},
     "output_type": "execute_result"
    },
    {
     "data": {
      "image/png": "[encoded data removed]",
      "text/plain": [
       "<Figure size 432x288 with 1 Axes>"
      ]
     },
     "metadata": {
      "needs_background": "light"
     },
     "output_type": "display_data"
    }
   ],
   "source": [
    "sns.barplot(data.ca_auditc1_cv,data.ca_scghq1_dv)"
   ]
  },
  {
   "cell_type": "code",
   "execution_count": 75,
   "metadata": {},
   "outputs": [
    {
     "data": {
      "text/plain": [
       "<matplotlib.axes._subplots.AxesSubplot at 0x22bf7bb96a0>"
      ]
     },
     "execution_count": 75,
     "metadata": {},
     "output_type": "execute_result"
    },
    {
     "data": {
      "image/png": "[encoded data removed]",
      "text/plain": [
       "<Figure size 432x288 with 1 Axes>"
      ]
     },
     "metadata": {
      "needs_background": "light"
     },
     "output_type": "display_data"
    }
   ],
   "source": [
    "sns.barplot(data.ca_keyworker,data.ca_scghq1_dv)"
   ]
  },
  {
   "cell_type": "code",
   "execution_count": 76,
   "metadata": {},
   "outputs": [
    {
     "data": {
      "text/plain": [
       "<matplotlib.axes._subplots.AxesSubplot at 0x22bf7bf8ee0>"
      ]
     },
     "execution_count": 76,
     "metadata": {},
     "output_type": "execute_result"
    },
    {
     "data": {
      "image/png": "[encoded data removed]",
      "text/plain": [
       "<Figure size 432x288 with 1 Axes>"
      ]
     },
     "metadata": {
      "needs_background": "light"
     },
     "output_type": "display_data"
    }
   ],
   "source": [
    "sns.barplot(data.ca_smoker,data.ca_scghq1_dv)"
   ]
  },
  {
   "cell_type": "code",
   "execution_count": 77,
   "metadata": {
    "scrolled": true
   },
   "outputs": [
    {
     "data": {
      "text/plain": [
       "<matplotlib.axes._subplots.AxesSubplot at 0x22bf7e11190>"
      ]
     },
     "execution_count": 77,
     "metadata": {},
     "output_type": "execute_result"
    },
    {
     "data": {
      "image/png": "[encoded data removed]",
      "text/plain": [
       "<Figure size 432x288 with 1 Axes>"
      ]
     },
     "metadata": {
      "needs_background": "light"
     },
     "output_type": "display_data"
    }
   ],
   "source": [
    "sns.barplot(data.ca_gor_dv,data.ca_scghq1_dv)"
   ]
  },
  {
   "cell_type": "markdown",
   "metadata": {},
   "source": [
    "Scaling our numerical columns as it is important in linear regression so as for our variables to be scaleable"
   ]
  },
  {
   "cell_type": "code",
   "execution_count": 79,
   "metadata": {},
   "outputs": [],
   "source": [
    "from sklearn import preprocessing"
   ]
  },
  {
   "cell_type": "code",
   "execution_count": 80,
   "metadata": {},
   "outputs": [],
   "source": [
    "from sklearn.base import TransformerMixin\n",
    "from sklearn.model_selection import train_test_split\n",
    "from sklearn.preprocessing import MinMaxScaler\n",
    "import statsmodels.api as sm\n",
    "from sklearn.feature_selection import RFE\n",
    "from sklearn.linear_model import LinearRegression\n",
    "from statsmodels.stats.outliers_influence import variance_inflation_factor\n",
    "from sklearn.metrics import r2_score"
   ]
  },
  {
   "cell_type": "code",
   "execution_count": 82,
   "metadata": {},
   "outputs": [],
   "source": [
    "scaler=preprocessing.StandardScaler()"
   ]
  },
  {
   "cell_type": "code",
   "execution_count": 83,
   "metadata": {},
   "outputs": [],
   "source": [
    "sig_num_col=['pidp','psu','strata','ca_age','ca_hhcompa','ca_hhcompb','ca_hhcompc','ca_timechcare','ca_scghq1_dv','ca_betaindin_xw']"
   ]
  },
  {
   "cell_type": "code",
   "execution_count": 84,
   "metadata": {},
   "outputs": [],
   "source": [
    "import warnings\n",
    "warnings.filterwarnings(\"ignore\")\n",
    "data[sig_num_col]=scaler.fit_transform(data[sig_num_col])"
   ]
  },
  {
   "cell_type": "code",
   "execution_count": 85,
   "metadata": {},
   "outputs": [
    {
     "data": {
      "text/html": [
       "<div>\n",
       "<style scoped>\n",
       "    .dataframe tbody tr th:only-of-type {\n",
       "        vertical-align: middle;\n",
       "    }\n",
       "\n",
       "    .dataframe tbody tr th {\n",
       "        vertical-align: top;\n",
       "    }\n",
       "\n",
       "    .dataframe thead th {\n",
       "        text-align: right;\n",
       "    }\n",
       "</style>\n",
       "<table border=\"1\" class=\"dataframe\">\n",
       "  <thead>\n",
       "    <tr style=\"text-align: right;\">\n",
       "      <th></th>\n",
       "      <th>pidp</th>\n",
       "      <th>psu</th>\n",
       "      <th>strata</th>\n",
       "      <th>birthy</th>\n",
       "      <th>racel_dv</th>\n",
       "      <th>bornuk_dv</th>\n",
       "      <th>ca_age</th>\n",
       "      <th>ca_sex</th>\n",
       "      <th>ca_couple</th>\n",
       "      <th>ca_hhcompa</th>\n",
       "      <th>...</th>\n",
       "      <th>ca_furlough</th>\n",
       "      <th>ca_keyworker</th>\n",
       "      <th>ca_wah</th>\n",
       "      <th>ca_timechcare</th>\n",
       "      <th>ca_auditc1_cv</th>\n",
       "      <th>ca_auditc3_cv</th>\n",
       "      <th>ca_smoker</th>\n",
       "      <th>ca_scghq1_dv</th>\n",
       "      <th>ca_gor_dv</th>\n",
       "      <th>ca_betaindin_xw</th>\n",
       "    </tr>\n",
       "  </thead>\n",
       "  <tbody>\n",
       "    <tr>\n",
       "      <th>0</th>\n",
       "      <td>-1.662026</td>\n",
       "      <td>0.181927</td>\n",
       "      <td>-1.732253</td>\n",
       "      <td>1982.0</td>\n",
       "      <td>british</td>\n",
       "      <td>born in uk</td>\n",
       "      <td>-0.794389</td>\n",
       "      <td>Female</td>\n",
       "      <td>Yes</td>\n",
       "      <td>4.795475</td>\n",
       "      <td>...</td>\n",
       "      <td>No</td>\n",
       "      <td>No</td>\n",
       "      <td>Always</td>\n",
       "      <td>0.181927</td>\n",
       "      <td>No</td>\n",
       "      <td>Inapplicable</td>\n",
       "      <td>No</td>\n",
       "      <td>-0.078476</td>\n",
       "      <td>West Midlands</td>\n",
       "      <td>-0.644184</td>\n",
       "    </tr>\n",
       "    <tr>\n",
       "      <th>1</th>\n",
       "      <td>-1.661589</td>\n",
       "      <td>-0.486213</td>\n",
       "      <td>-1.725429</td>\n",
       "      <td>1979.0</td>\n",
       "      <td>british</td>\n",
       "      <td>born in uk</td>\n",
       "      <td>-0.618206</td>\n",
       "      <td>Female</td>\n",
       "      <td>Yes</td>\n",
       "      <td>-0.314779</td>\n",
       "      <td>...</td>\n",
       "      <td>Yes</td>\n",
       "      <td>No</td>\n",
       "      <td>Never</td>\n",
       "      <td>-0.486213</td>\n",
       "      <td>Yes</td>\n",
       "      <td>three</td>\n",
       "      <td>No</td>\n",
       "      <td>-1.120726</td>\n",
       "      <td>South East</td>\n",
       "      <td>-0.204158</td>\n",
       "    </tr>\n",
       "    <tr>\n",
       "      <th>2</th>\n",
       "      <td>-1.661184</td>\n",
       "      <td>4.858905</td>\n",
       "      <td>-1.717847</td>\n",
       "      <td>1990.0</td>\n",
       "      <td>british</td>\n",
       "      <td>born in uk</td>\n",
       "      <td>-1.205482</td>\n",
       "      <td>Female</td>\n",
       "      <td>No</td>\n",
       "      <td>4.795475</td>\n",
       "      <td>...</td>\n",
       "      <td>No</td>\n",
       "      <td>Yes</td>\n",
       "      <td>Never</td>\n",
       "      <td>4.858905</td>\n",
       "      <td>Yes</td>\n",
       "      <td>four</td>\n",
       "      <td>No</td>\n",
       "      <td>0.963774</td>\n",
       "      <td>East Midlands</td>\n",
       "      <td>-0.644184</td>\n",
       "    </tr>\n",
       "    <tr>\n",
       "      <th>3</th>\n",
       "      <td>-1.660904</td>\n",
       "      <td>0.000000</td>\n",
       "      <td>-1.711781</td>\n",
       "      <td>1986.0</td>\n",
       "      <td>british</td>\n",
       "      <td>born in uk</td>\n",
       "      <td>-1.029299</td>\n",
       "      <td>Female</td>\n",
       "      <td>Yes</td>\n",
       "      <td>-0.314779</td>\n",
       "      <td>...</td>\n",
       "      <td>No</td>\n",
       "      <td>Yes</td>\n",
       "      <td>Always</td>\n",
       "      <td>0.000000</td>\n",
       "      <td>No</td>\n",
       "      <td>Inapplicable</td>\n",
       "      <td>No</td>\n",
       "      <td>-0.947017</td>\n",
       "      <td>West Midlands</td>\n",
       "      <td>-0.380726</td>\n",
       "    </tr>\n",
       "    <tr>\n",
       "      <th>4</th>\n",
       "      <td>-1.660620</td>\n",
       "      <td>0.000000</td>\n",
       "      <td>-1.704199</td>\n",
       "      <td>1985.0</td>\n",
       "      <td>british</td>\n",
       "      <td>born in uk</td>\n",
       "      <td>-0.970572</td>\n",
       "      <td>Male</td>\n",
       "      <td>No</td>\n",
       "      <td>-0.314779</td>\n",
       "      <td>...</td>\n",
       "      <td>Inapplicable</td>\n",
       "      <td>Inapplicable</td>\n",
       "      <td>Inapplicable</td>\n",
       "      <td>0.000000</td>\n",
       "      <td>No</td>\n",
       "      <td>Inapplicable</td>\n",
       "      <td>Yes</td>\n",
       "      <td>1.658607</td>\n",
       "      <td>North West</td>\n",
       "      <td>1.299082</td>\n",
       "    </tr>\n",
       "  </tbody>\n",
       "</table>\n",
       "<p>5 rows × 28 columns</p>\n",
       "</div>"
      ],
      "text/plain": [
       "       pidp       psu    strata  birthy racel_dv   bornuk_dv    ca_age  \\\n",
       "0 -1.662026  0.181927 -1.732253  1982.0  british  born in uk -0.794389   \n",
       "1 -1.661589 -0.486213 -1.725429  1979.0  british  born in uk -0.618206   \n",
       "2 -1.661184  4.858905 -1.717847  1990.0  british  born in uk -1.205482   \n",
       "3 -1.660904  0.000000 -1.711781  1986.0  british  born in uk -1.029299   \n",
       "4 -1.660620  0.000000 -1.704199  1985.0  british  born in uk -0.970572   \n",
       "\n",
       "   ca_sex ca_couple  ca_hhcompa  ...   ca_furlough  ca_keyworker  \\\n",
       "0  Female       Yes    4.795475  ...            No            No   \n",
       "1  Female       Yes   -0.314779  ...           Yes            No   \n",
       "2  Female        No    4.795475  ...            No           Yes   \n",
       "3  Female       Yes   -0.314779  ...            No           Yes   \n",
       "4    Male        No   -0.314779  ...  Inapplicable  Inapplicable   \n",
       "\n",
       "         ca_wah ca_timechcare ca_auditc1_cv ca_auditc3_cv ca_smoker  \\\n",
       "0        Always      0.181927            No  Inapplicable        No   \n",
       "1         Never     -0.486213           Yes         three        No   \n",
       "2         Never      4.858905           Yes          four        No   \n",
       "3        Always      0.000000            No  Inapplicable        No   \n",
       "4  Inapplicable      0.000000            No  Inapplicable       Yes   \n",
       "\n",
       "  ca_scghq1_dv      ca_gor_dv ca_betaindin_xw  \n",
       "0    -0.078476  West Midlands       -0.644184  \n",
       "1    -1.120726     South East       -0.204158  \n",
       "2     0.963774  East Midlands       -0.644184  \n",
       "3    -0.947017  West Midlands       -0.380726  \n",
       "4     1.658607     North West        1.299082  \n",
       "\n",
       "[5 rows x 28 columns]"
      ]
     },
     "execution_count": 85,
     "metadata": {},
     "output_type": "execute_result"
    }
   ],
   "source": [
    "data.head()"
   ]
  },
  {
   "cell_type": "code",
   "execution_count": 86,
   "metadata": {},
   "outputs": [
    {
     "data": {
      "text/plain": [
       "<matplotlib.axes._subplots.AxesSubplot at 0x22bfb2a0730>"
      ]
     },
     "execution_count": 86,
     "metadata": {},
     "output_type": "execute_result"
    },
    {
     "data": {
      "image/png": "[encoded data removed]",
      "text/plain": [
       "<Figure size 432x288 with 2 Axes>"
      ]
     },
     "metadata": {
      "needs_background": "light"
     },
     "output_type": "display_data"
    }
   ],
   "source": [
    "sns.heatmap(data.corr())"
   ]
  },
  {
   "cell_type": "code",
   "execution_count": 87,
   "metadata": {},
   "outputs": [
    {
     "data": {
      "text/html": [
       "<div>\n",
       "<style scoped>\n",
       "    .dataframe tbody tr th:only-of-type {\n",
       "        vertical-align: middle;\n",
       "    }\n",
       "\n",
       "    .dataframe tbody tr th {\n",
       "        vertical-align: top;\n",
       "    }\n",
       "\n",
       "    .dataframe thead th {\n",
       "        text-align: right;\n",
       "    }\n",
       "</style>\n",
       "<table border=\"1\" class=\"dataframe\">\n",
       "  <thead>\n",
       "    <tr style=\"text-align: right;\">\n",
       "      <th></th>\n",
       "      <th>pidp</th>\n",
       "      <th>psu</th>\n",
       "      <th>strata</th>\n",
       "      <th>birthy</th>\n",
       "      <th>ca_age</th>\n",
       "      <th>ca_hhcompa</th>\n",
       "      <th>ca_hhcompb</th>\n",
       "      <th>ca_hhcompc</th>\n",
       "      <th>ca_timechcare</th>\n",
       "      <th>ca_scghq1_dv</th>\n",
       "      <th>ca_betaindin_xw</th>\n",
       "    </tr>\n",
       "  </thead>\n",
       "  <tbody>\n",
       "    <tr>\n",
       "      <th>pidp</th>\n",
       "      <td>1.000000</td>\n",
       "      <td>-0.006623</td>\n",
       "      <td>0.417612</td>\n",
       "      <td>0.033198</td>\n",
       "      <td>-0.032606</td>\n",
       "      <td>0.027244</td>\n",
       "      <td>0.041398</td>\n",
       "      <td>0.039248</td>\n",
       "      <td>-0.006623</td>\n",
       "      <td>0.009553</td>\n",
       "      <td>0.016074</td>\n",
       "    </tr>\n",
       "    <tr>\n",
       "      <th>psu</th>\n",
       "      <td>-0.006623</td>\n",
       "      <td>1.000000</td>\n",
       "      <td>-0.012871</td>\n",
       "      <td>0.052646</td>\n",
       "      <td>-0.052818</td>\n",
       "      <td>0.303129</td>\n",
       "      <td>-0.011725</td>\n",
       "      <td>-0.227866</td>\n",
       "      <td>1.000000</td>\n",
       "      <td>0.057892</td>\n",
       "      <td>-0.001546</td>\n",
       "    </tr>\n",
       "    <tr>\n",
       "      <th>strata</th>\n",
       "      <td>0.417612</td>\n",
       "      <td>-0.012871</td>\n",
       "      <td>1.000000</td>\n",
       "      <td>0.071811</td>\n",
       "      <td>-0.071595</td>\n",
       "      <td>0.054266</td>\n",
       "      <td>0.074645</td>\n",
       "      <td>0.046796</td>\n",
       "      <td>-0.012871</td>\n",
       "      <td>0.012756</td>\n",
       "      <td>-0.028098</td>\n",
       "    </tr>\n",
       "    <tr>\n",
       "      <th>birthy</th>\n",
       "      <td>0.033198</td>\n",
       "      <td>0.052646</td>\n",
       "      <td>0.071811</td>\n",
       "      <td>1.000000</td>\n",
       "      <td>-0.999260</td>\n",
       "      <td>0.245619</td>\n",
       "      <td>0.280798</td>\n",
       "      <td>0.153931</td>\n",
       "      <td>0.052646</td>\n",
       "      <td>0.163555</td>\n",
       "      <td>0.016849</td>\n",
       "    </tr>\n",
       "    <tr>\n",
       "      <th>ca_age</th>\n",
       "      <td>-0.032606</td>\n",
       "      <td>-0.052818</td>\n",
       "      <td>-0.071595</td>\n",
       "      <td>-0.999260</td>\n",
       "      <td>1.000000</td>\n",
       "      <td>-0.245775</td>\n",
       "      <td>-0.280085</td>\n",
       "      <td>-0.153728</td>\n",
       "      <td>-0.052818</td>\n",
       "      <td>-0.163795</td>\n",
       "      <td>-0.016878</td>\n",
       "    </tr>\n",
       "    <tr>\n",
       "      <th>ca_hhcompa</th>\n",
       "      <td>0.027244</td>\n",
       "      <td>0.303129</td>\n",
       "      <td>0.054266</td>\n",
       "      <td>0.245619</td>\n",
       "      <td>-0.245775</td>\n",
       "      <td>1.000000</td>\n",
       "      <td>0.094894</td>\n",
       "      <td>-0.023933</td>\n",
       "      <td>0.303129</td>\n",
       "      <td>0.039195</td>\n",
       "      <td>-0.022161</td>\n",
       "    </tr>\n",
       "    <tr>\n",
       "      <th>ca_hhcompb</th>\n",
       "      <td>0.041398</td>\n",
       "      <td>-0.011725</td>\n",
       "      <td>0.074645</td>\n",
       "      <td>0.280798</td>\n",
       "      <td>-0.280085</td>\n",
       "      <td>0.094894</td>\n",
       "      <td>1.000000</td>\n",
       "      <td>0.115112</td>\n",
       "      <td>-0.011725</td>\n",
       "      <td>0.053048</td>\n",
       "      <td>-0.017250</td>\n",
       "    </tr>\n",
       "    <tr>\n",
       "      <th>ca_hhcompc</th>\n",
       "      <td>0.039248</td>\n",
       "      <td>-0.227866</td>\n",
       "      <td>0.046796</td>\n",
       "      <td>0.153931</td>\n",
       "      <td>-0.153728</td>\n",
       "      <td>-0.023933</td>\n",
       "      <td>0.115112</td>\n",
       "      <td>1.000000</td>\n",
       "      <td>-0.227866</td>\n",
       "      <td>0.014052</td>\n",
       "      <td>-0.018841</td>\n",
       "    </tr>\n",
       "    <tr>\n",
       "      <th>ca_timechcare</th>\n",
       "      <td>-0.006623</td>\n",
       "      <td>1.000000</td>\n",
       "      <td>-0.012871</td>\n",
       "      <td>0.052646</td>\n",
       "      <td>-0.052818</td>\n",
       "      <td>0.303129</td>\n",
       "      <td>-0.011725</td>\n",
       "      <td>-0.227866</td>\n",
       "      <td>1.000000</td>\n",
       "      <td>0.057892</td>\n",
       "      <td>-0.001546</td>\n",
       "    </tr>\n",
       "    <tr>\n",
       "      <th>ca_scghq1_dv</th>\n",
       "      <td>0.009553</td>\n",
       "      <td>0.057892</td>\n",
       "      <td>0.012756</td>\n",
       "      <td>0.163555</td>\n",
       "      <td>-0.163795</td>\n",
       "      <td>0.039195</td>\n",
       "      <td>0.053048</td>\n",
       "      <td>0.014052</td>\n",
       "      <td>0.057892</td>\n",
       "      <td>1.000000</td>\n",
       "      <td>0.020405</td>\n",
       "    </tr>\n",
       "    <tr>\n",
       "      <th>ca_betaindin_xw</th>\n",
       "      <td>0.016074</td>\n",
       "      <td>-0.001546</td>\n",
       "      <td>-0.028098</td>\n",
       "      <td>0.016849</td>\n",
       "      <td>-0.016878</td>\n",
       "      <td>-0.022161</td>\n",
       "      <td>-0.017250</td>\n",
       "      <td>-0.018841</td>\n",
       "      <td>-0.001546</td>\n",
       "      <td>0.020405</td>\n",
       "      <td>1.000000</td>\n",
       "    </tr>\n",
       "  </tbody>\n",
       "</table>\n",
       "</div>"
      ],
      "text/plain": [
       "                     pidp       psu    strata    birthy    ca_age  ca_hhcompa  \\\n",
       "pidp             1.000000 -0.006623  0.417612  0.033198 -0.032606    0.027244   \n",
       "psu             -0.006623  1.000000 -0.012871  0.052646 -0.052818    0.303129   \n",
       "strata           0.417612 -0.012871  1.000000  0.071811 -0.071595    0.054266   \n",
       "birthy           0.033198  0.052646  0.071811  1.000000 -0.999260    0.245619   \n",
       "ca_age          -0.032606 -0.052818 -0.071595 -0.999260  1.000000   -0.245775   \n",
       "ca_hhcompa       0.027244  0.303129  0.054266  0.245619 -0.245775    1.000000   \n",
       "ca_hhcompb       0.041398 -0.011725  0.074645  0.280798 -0.280085    0.094894   \n",
       "ca_hhcompc       0.039248 -0.227866  0.046796  0.153931 -0.153728   -0.023933   \n",
       "ca_timechcare   -0.006623  1.000000 -0.012871  0.052646 -0.052818    0.303129   \n",
       "ca_scghq1_dv     0.009553  0.057892  0.012756  0.163555 -0.163795    0.039195   \n",
       "ca_betaindin_xw  0.016074 -0.001546 -0.028098  0.016849 -0.016878   -0.022161   \n",
       "\n",
       "                 ca_hhcompb  ca_hhcompc  ca_timechcare  ca_scghq1_dv  \\\n",
       "pidp               0.041398    0.039248      -0.006623      0.009553   \n",
       "psu               -0.011725   -0.227866       1.000000      0.057892   \n",
       "strata             0.074645    0.046796      -0.012871      0.012756   \n",
       "birthy             0.280798    0.153931       0.052646      0.163555   \n",
       "ca_age            -0.280085   -0.153728      -0.052818     -0.163795   \n",
       "ca_hhcompa         0.094894   -0.023933       0.303129      0.039195   \n",
       "ca_hhcompb         1.000000    0.115112      -0.011725      0.053048   \n",
       "ca_hhcompc         0.115112    1.000000      -0.227866      0.014052   \n",
       "ca_timechcare     -0.011725   -0.227866       1.000000      0.057892   \n",
       "ca_scghq1_dv       0.053048    0.014052       0.057892      1.000000   \n",
       "ca_betaindin_xw   -0.017250   -0.018841      -0.001546      0.020405   \n",
       "\n",
       "                 ca_betaindin_xw  \n",
       "pidp                    0.016074  \n",
       "psu                    -0.001546  \n",
       "strata                 -0.028098  \n",
       "birthy                  0.016849  \n",
       "ca_age                 -0.016878  \n",
       "ca_hhcompa             -0.022161  \n",
       "ca_hhcompb             -0.017250  \n",
       "ca_hhcompc             -0.018841  \n",
       "ca_timechcare          -0.001546  \n",
       "ca_scghq1_dv            0.020405  \n",
       "ca_betaindin_xw         1.000000  "
      ]
     },
     "execution_count": 87,
     "metadata": {},
     "output_type": "execute_result"
    }
   ],
   "source": [
    "data.corr()"
   ]
  },
  {
   "cell_type": "code",
   "execution_count": 90,
   "metadata": {},
   "outputs": [
    {
     "data": {
      "text/plain": [
       "0        0.181927\n",
       "1       -0.486213\n",
       "2        4.858905\n",
       "3        0.000000\n",
       "4        0.000000\n",
       "           ...   \n",
       "17447    0.000000\n",
       "17448    0.000000\n",
       "17449   -1.154352\n",
       "17450    0.000000\n",
       "17451    0.000000\n",
       "Name: ca_timechcare, Length: 17452, dtype: float64"
      ]
     },
     "execution_count": 90,
     "metadata": {},
     "output_type": "execute_result"
    }
   ],
   "source": [
    "data.ca_timechcare"
   ]
  },
  {
   "cell_type": "markdown",
   "metadata": {},
   "source": [
    "Splitting our dataset into inputs(x) and target (y)"
   ]
  },
  {
   "cell_type": "code",
   "execution_count": 91,
   "metadata": {},
   "outputs": [],
   "source": [
    "x=data.drop(['ca_scghq1_dv'],axis=1)\n",
    "y=data['ca_scghq1_dv']"
   ]
  },
  {
   "cell_type": "code",
   "execution_count": 92,
   "metadata": {},
   "outputs": [],
   "source": [
    "x=pd.get_dummies(x, drop_first=True)"
   ]
  },
  {
   "cell_type": "code",
   "execution_count": 94,
   "metadata": {},
   "outputs": [],
   "source": [
    "x_train,x_test,y_train,y_test=train_test_split(x,y, test_size=0.2, random_state=365)"
   ]
  },
  {
   "cell_type": "code",
   "execution_count": 106,
   "metadata": {},
   "outputs": [],
   "source": [
    "#getting each variable as a constant\n",
    "x_trainc=sm.add_constant(x_train)\n",
    "lr_1=sm.OLS(y_train,x_train).fit()"
   ]
  },
  {
   "cell_type": "markdown",
   "metadata": {},
   "source": [
    "lr_1.params"
   ]
  },
  {
   "cell_type": "code",
   "execution_count": 101,
   "metadata": {},
   "outputs": [
    {
     "name": "stdout",
     "output_type": "stream",
     "text": [
      "                            OLS Regression Results                            \n",
      "==============================================================================\n",
      "Dep. Variable:           ca_scghq1_dv   R-squared:                       0.312\n",
      "Model:                            OLS   Adj. R-squared:                  0.308\n",
      "Method:                 Least Squares   F-statistic:                     70.73\n",
      "Date:                Sat, 26 Mar 2022   Prob (F-statistic):               0.00\n",
      "Time:                        23:03:30   Log-Likelihood:                -17186.\n",
      "No. Observations:               13961   AIC:                         3.455e+04\n",
      "Df Residuals:                   13871   BIC:                         3.523e+04\n",
      "Df Model:                          89                                         \n",
      "Covariance Type:            nonrobust                                         \n",
      "======================================================================================================\n",
      "                                         coef    std err          t      P>|t|      [0.025      0.975]\n",
      "------------------------------------------------------------------------------------------------------\n",
      "pidp                                   0.0017      0.008      0.213      0.831      -0.014       0.017\n",
      "psu                                    0.0110      0.004      2.877      0.004       0.004       0.018\n",
      "strata                                -0.0041      0.009     -0.473      0.636      -0.021       0.013\n",
      "birthy                                -0.0094      0.011     -0.894      0.371      -0.030       0.011\n",
      "ca_age                                -0.2347      0.179     -1.310      0.190      -0.586       0.116\n",
      "ca_hhcompa                             0.0013      0.008      0.163      0.871      -0.014       0.017\n",
      "ca_hhcompb                             0.0344      0.008      4.530      0.000       0.020       0.049\n",
      "ca_hhcompc                             0.0088      0.007      1.204      0.229      -0.006       0.023\n",
      "ca_timechcare                          0.0110      0.004      2.877      0.004       0.004       0.018\n",
      "ca_betaindin_xw                        0.0101      0.007      1.395      0.163      -0.004       0.024\n",
      "racel_dv_arab                          0.3219      0.171      1.886      0.059      -0.013       0.657\n",
      "racel_dv_asian                         0.2672      0.109      2.459      0.014       0.054       0.480\n",
      "racel_dv_bangladeshi                   0.3081      0.100      3.066      0.002       0.111       0.505\n",
      "racel_dv_black_british                 0.5621      0.225      2.494      0.013       0.120       1.004\n",
      "racel_dv_british                       0.2412      0.072      3.372      0.001       0.101       0.381\n",
      "racel_dv_caribbean                     0.1895      0.100      1.903      0.057      -0.006       0.385\n",
      "racel_dv_chinese                       0.1377      0.130      1.062      0.288      -0.116       0.392\n",
      "racel_dv_gypsy                         1.0958      0.593      1.848      0.065      -0.067       2.258\n",
      "racel_dv_indian                        0.1399      0.078      1.802      0.072      -0.012       0.292\n",
      "racel_dv_irish                         0.3028      0.092      3.283      0.001       0.122       0.484\n",
      "racel_dv_missing                       0.2595      0.100      2.603      0.009       0.064       0.455\n",
      "racel_dv_mixed                         0.2225      0.132      1.692      0.091      -0.035       0.480\n",
      "racel_dv_mixed_african                 0.4461      0.174      2.565      0.010       0.105       0.787\n",
      "racel_dv_mixed_caribbean               0.2050      0.099      2.078      0.038       0.012       0.398\n",
      "racel_dv_other_ethnic                  0.2211      0.145      1.522      0.128      -0.064       0.506\n",
      "racel_dv_pakistani                     0.2894      0.082      3.519      0.000       0.128       0.451\n",
      "racel_dv_white                         0.2284      0.078      2.920      0.004       0.075       0.382\n",
      "bornuk_dv_missing                     -0.1477      0.070     -2.110      0.035      -0.285      -0.010\n",
      "bornuk_dv_not born in uk              -0.0009      0.031     -0.030      0.976      -0.061       0.060\n",
      "ca_sex_Male                           -0.1673      0.015    -11.261      0.000      -0.196      -0.138\n",
      "ca_couple_Yes                          0.1342      0.018      7.591      0.000       0.100       0.169\n",
      "ca_hadsymp_No                         -0.7619      0.373     -2.045      0.041      -1.492      -0.031\n",
      "ca_hadsymp_Yes                        -0.6726      0.373     -1.803      0.071      -1.404       0.059\n",
      "ca_tested_No                          19.7187     20.741      0.951      0.342     -20.936      60.374\n",
      "ca_tested_Refusal                     19.7022     20.752      0.949      0.342     -20.975      60.379\n",
      "ca_tested_Yes                         15.8416     16.592      0.955      0.340     -16.682      48.365\n",
      "ca_testresult_Inconclusive             3.6351      4.156      0.875      0.382      -4.512      11.782\n",
      "ca_testresult_Negative                 4.0117      4.150      0.967      0.334      -4.124      12.147\n",
      "ca_testresult_Positive                 4.0778      4.153      0.982      0.326      -4.063      12.218\n",
      "ca_testresult_Waiting                  4.1170      4.152      0.992      0.321      -4.021      12.255\n",
      "ca_hcond_cv96_Inapplicable             0.0368      0.225      0.163      0.870      -0.405       0.479\n",
      "ca_hcond_cv96_Mentioned               -0.0293      0.179     -0.164      0.869      -0.379       0.321\n",
      "ca_hcond_cv96_Not mentioned            0.0704      0.179      0.394      0.694      -0.280       0.421\n",
      "ca_hcond_cv96_Refusal                 -0.2293      0.262     -0.875      0.382      -0.743       0.284\n",
      "ca_sclonely_cv_Inapplicable           -0.0985      0.614     -0.160      0.873      -1.302       1.105\n",
      "ca_sclonely_cv_Never                  -0.5260      0.589     -0.892      0.372      -1.681       0.629\n",
      "ca_sclonely_cv_Often                   1.2407      0.590      2.103      0.036       0.084       2.397\n",
      "ca_sclonely_cv_Refusal                -0.2948      0.845     -0.349      0.727      -1.951       1.362\n",
      "ca_sclonely_cv_Sometime                0.2331      0.590      0.395      0.693      -0.923       1.389\n",
      "ca_blwork_Inapplicable                -1.9370      0.851     -2.277      0.023      -3.604      -0.270\n",
      "ca_blwork_No                          -1.9843      0.833     -2.381      0.017      -3.618      -0.351\n",
      "ca_blwork_Refusal                     -1.6987      0.913     -1.861      0.063      -3.488       0.090\n",
      "ca_blwork_Yes                         -1.8447      0.834     -2.212      0.027      -3.479      -0.210\n",
      "ca_furlough_Inapplicable               0.0248      0.373      0.066      0.947      -0.707       0.757\n",
      "ca_furlough_No                        -0.0556      0.373     -0.149      0.881      -0.786       0.675\n",
      "ca_furlough_Refusal                   -0.0292      0.671     -0.044      0.965      -1.343       1.285\n",
      "ca_furlough_Yes                       -0.1498      0.373     -0.402      0.688      -0.881       0.581\n",
      "ca_keyworker_Inapplicable             -0.8696      0.682     -1.275      0.202      -2.207       0.468\n",
      "ca_keyworker_No                       -0.2739      0.342     -0.801      0.423      -0.944       0.396\n",
      "ca_keyworker_Refusal                  -0.3672      0.618     -0.595      0.552      -1.578       0.843\n",
      "ca_keyworker_Yes                      -0.3081      0.342     -0.902      0.367      -0.978       0.362\n",
      "ca_wah_Inapplicable                    0.6527      0.590      1.107      0.268      -0.503       1.809\n",
      "ca_wah_Never                          -0.0251      0.023     -1.084      0.278      -0.071       0.020\n",
      "ca_wah_Often                           0.0236      0.038      0.620      0.535      -0.051       0.098\n",
      "ca_wah_Refusal                        -0.0078      0.552     -0.014      0.989      -1.089       1.073\n",
      "ca_wah_Sometimes                      -0.0443      0.035     -1.281      0.200      -0.112       0.023\n",
      "ca_auditc1_cv_Inapplicable             0.6727      0.703      0.957      0.338      -0.705       2.050\n",
      "ca_auditc1_cv_No                       1.0292      0.685      1.503      0.133      -0.313       2.371\n",
      "ca_auditc1_cv_Refusal                  1.3707      0.817      1.677      0.094      -0.231       2.973\n",
      "ca_auditc1_cv_Yes                      0.4275      0.817      0.523      0.601      -1.175       2.030\n",
      "ca_auditc3_cv_Don't know               0.5464      0.833      0.656      0.512      -1.086       2.179\n",
      "ca_auditc3_cv_Inapplicable            -0.6190      0.576     -1.075      0.282      -1.748       0.510\n",
      "ca_auditc3_cv_Never                   -0.1605      0.265     -0.605      0.545      -0.680       0.359\n",
      "ca_auditc3_cv_Once                    -0.0389      0.042     -0.929      0.353      -0.121       0.043\n",
      "ca_auditc3_cv_Refusal                  0.1547      0.328      0.472      0.637      -0.487       0.797\n",
      "ca_auditc3_cv_four                    -0.0551      0.030     -1.844      0.065      -0.114       0.003\n",
      "ca_auditc3_cv_six                     -0.0052      0.031     -0.166      0.868      -0.066       0.056\n",
      "ca_auditc3_cv_three                   -0.0576      0.030     -1.952      0.051      -0.115       0.000\n",
      "ca_smoker_Inapplicable                 1.3792      0.703      1.963      0.050       0.002       2.756\n",
      "ca_smoker_No                           1.2099      0.685      1.767      0.077      -0.132       2.552\n",
      "ca_smoker_Refusal                     -0.3963      0.866     -0.458      0.647      -2.094       1.301\n",
      "ca_smoker_Yes                          1.3072      0.685      1.908      0.056      -0.035       2.650\n",
      "ca_gor_dv_East of England              0.0334      0.034      0.978      0.328      -0.034       0.100\n",
      "ca_gor_dv_London                       0.1039      0.035      2.933      0.003       0.034       0.173\n",
      "ca_gor_dv_North East                  -0.0167      0.047     -0.358      0.720      -0.108       0.075\n",
      "ca_gor_dv_North West                   0.0149      0.034      0.435      0.663      -0.052       0.082\n",
      "ca_gor_dv_Northern Ireland            -0.0365      0.045     -0.819      0.413      -0.124       0.051\n",
      "ca_gor_dv_Scotland                     0.0596      0.035      1.694      0.090      -0.009       0.129\n",
      "ca_gor_dv_South East                   0.0203      0.032      0.634      0.526      -0.042       0.083\n",
      "ca_gor_dv_South West                   0.0160      0.035      0.462      0.644      -0.052       0.084\n",
      "ca_gor_dv_Wales                        0.0450      0.039      1.155      0.248      -0.031       0.121\n",
      "ca_gor_dv_West Midlands                0.0283      0.035      0.801      0.423      -0.041       0.097\n",
      "ca_gor_dv_Yorkshire and The Humber    -0.0131      0.035     -0.373      0.709      -0.082       0.056\n",
      "==============================================================================\n",
      "Omnibus:                     1710.843   Durbin-Watson:                   2.013\n",
      "Prob(Omnibus):                  0.000   Jarque-Bera (JB):             3130.950\n",
      "Skew:                           0.808   Prob(JB):                         0.00\n",
      "Kurtosis:                       4.665   Cond. No.                     1.00e+16\n",
      "==============================================================================\n",
      "\n",
      "Warnings:\n",
      "[1] Standard Errors assume that the covariance matrix of the errors is correctly specified.\n",
      "[2] The smallest eigenvalue is 5.38e-22. This might indicate that there are\n",
      "strong multicollinearity problems or that the design matrix is singular.\n"
     ]
    }
   ],
   "source": [
    "print(lr_1.summary())"
   ]
  },
  {
   "cell_type": "markdown",
   "metadata": {},
   "source": [
    "The P value can be used to determine variables that are significant in prediction. Variables whose p values are greater than 0.05 are not significant in prediction."
   ]
  },
  {
   "cell_type": "code",
   "execution_count": 89,
   "metadata": {},
   "outputs": [],
   "source": [
    "from sklearn.linear_model import LinearRegression"
   ]
  },
  {
   "cell_type": "code",
   "execution_count": 102,
   "metadata": {},
   "outputs": [
    {
     "data": {
      "text/plain": [
       "LinearRegression()"
      ]
     },
     "execution_count": 102,
     "metadata": {},
     "output_type": "execute_result"
    }
   ],
   "source": [
    "regressor=LinearRegression()\n",
    "regressor.fit(x_train,y_train)"
   ]
  },
  {
   "cell_type": "code",
   "execution_count": 103,
   "metadata": {},
   "outputs": [],
   "source": [
    "y_pred=regressor.predict(x_train)"
   ]
  },
  {
   "cell_type": "code",
   "execution_count": null,
   "metadata": {},
   "outputs": [],
   "source": [
    "y_pred"
   ]
  },
  {
   "cell_type": "code",
   "execution_count": null,
   "metadata": {},
   "outputs": [],
   "source": [
    "y_test"
   ]
  },
  {
   "cell_type": "code",
   "execution_count": 104,
   "metadata": {},
   "outputs": [
    {
     "data": {
      "text/plain": [
       "<matplotlib.collections.PathCollection at 0x22bfbdbc8e0>"
      ]
     },
     "execution_count": 104,
     "metadata": {},
     "output_type": "execute_result"
    },
    {
     "data": {
      "image/png": "[encoded data removed]",
      "text/plain": [
       "<Figure size 432x288 with 1 Axes>"
      ]
     },
     "metadata": {
      "needs_background": "light"
     },
     "output_type": "display_data"
    }
   ],
   "source": [
    "plt.scatter(y_train,y_pred)"
   ]
  },
  {
   "cell_type": "code",
   "execution_count": 93,
   "metadata": {},
   "outputs": [
    {
     "data": {
      "text/plain": [
       "<matplotlib.axes._subplots.AxesSubplot at 0x271df3ace80>"
      ]
     },
     "execution_count": 93,
     "metadata": {},
     "output_type": "execute_result"
    },
    {
     "data": {
      "image/png": "[encoded data removed]",
      "text/plain": [
       "<Figure size 432x288 with 1 Axes>"
      ]
     },
     "metadata": {
      "needs_background": "light"
     },
     "output_type": "display_data"
    }
   ],
   "source": [
    "sns.distplot(y_train-y_pred)"
   ]
  },
  {
   "cell_type": "code",
   "execution_count": 94,
   "metadata": {},
   "outputs": [
    {
     "data": {
      "text/plain": [
       "0.3121524444375553"
      ]
     },
     "execution_count": 94,
     "metadata": {},
     "output_type": "execute_result"
    }
   ],
   "source": [
    "regressor.score(x_train,y_train)"
   ]
  },
  {
   "cell_type": "markdown",
   "metadata": {},
   "source": [
    "# THANKS"
   ]
  },
  {
   "cell_type": "code",
   "execution_count": null,
   "metadata": {},
   "outputs": [],
   "source": []
  },
  {
   "cell_type": "code",
   "execution_count": null,
   "metadata": {},
   "outputs": [],
   "source": []
  }
 ],
 "metadata": {
  "kernelspec": {
   "display_name": "Python 3",
   "language": "python",
   "name": "python3"
  },
  "language_info": {
   "codemirror_mode": {
    "name": "ipython",
    "version": 3
   },
   "file_extension": ".py",
   "mimetype": "text/x-python",
   "name": "python",
   "nbconvert_exporter": "python",
   "pygments_lexer": "ipython3",
   "version": "3.8.3"
  }
 },
 "nbformat": 4,
 "nbformat_minor": 4
}
